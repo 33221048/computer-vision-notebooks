{
 "cells": [
  {
   "cell_type": "markdown",
   "metadata": {},
   "source": [
    "# Signal Discontinuity [naive]\n",
    "---\n",
    "- Author: Diego Inácio\n",
    "- GitHub: [github.com/diegoinacio](https://github.com/diegoinacio)\n",
    "- Notebook: [signal_discontinuity_naive.ipynb](https://github.com/diegoinacio/computer-vision-notebooks/blob/master/Digital-Signal-Processing/signal_discontinuity_naive.ipynb)\n",
    "---\n",
    "Naive solution to solve the frequency discontinuity between two concatenated signals."
   ]
  },
  {
   "cell_type": "code",
   "execution_count": null,
   "metadata": {},
   "outputs": [],
   "source": [
    "%matplotlib inline\n",
    "import matplotlib.pyplot as plt\n",
    "from IPython.display import Audio\n",
    "import numpy as np\n",
    "\n",
    "from _utils import *"
   ]
  },
  {
   "cell_type": "code",
   "execution_count": null,
   "metadata": {},
   "outputs": [],
   "source": [
    "fs = 44100\n",
    "t = np.linspace(-1, 1, 2*fs)\n",
    "xo = np.sin(2*np.pi*110*t + np.pi*0.5)\n",
    "xi = np.sin(2*np.pi*215*t)\n",
    "\n",
    "audiovis(xo, time=t, tlim=[-0.1, 0.1], text='Signal 110 Hz')\n",
    "audiovis(xi, time=t, tlim=[-0.1, 0.1], text='Signal 210 Hz')"
   ]
  },
  {
   "cell_type": "code",
   "execution_count": null,
   "metadata": {},
   "outputs": [],
   "source": [
    "# heaviside step transition\n",
    "b = t >= 0\n",
    "x = (1 - b)*xo + b*xi\n",
    "audiovis(x, time=t, tlim=[-0.1, 0.1], text='Signal discontinuity | \"Heaviside step\" transition')"
   ]
  },
  {
   "cell_type": "code",
   "execution_count": null,
   "metadata": {},
   "outputs": [],
   "source": [
    "Audio(x, rate=fs) # we can hear a 'tic' sound on transition"
   ]
  },
  {
   "cell_type": "code",
   "execution_count": null,
   "metadata": {},
   "outputs": [],
   "source": [
    "spectrogram(x, flim=[0, 1000], text='Discontinuity signal spectrogram')"
   ]
  },
  {
   "cell_type": "markdown",
   "metadata": {},
   "source": [
    "## Logistic function\n",
    "---\n",
    " [Logistic function](https://en.wikipedia.org/wiki/Logistic_function) results in a sigmoidal curve, represented by equation in functions of *t*:\n",
    "$$\n",
    "\\large f(t)=\\frac{L}{1+e^{-k(t - t_0)}}\n",
    "$$\n",
    "\n",
    "where:\n",
    "* $L$ : maximum sigmoid's value;\n",
    "* $t_0$ : *t* value which corresponds the median point of curve;\n",
    "* $k$ : curve slope.\n",
    "\n",
    "The sigmoid curve will be used as a parameter for a linear interpolation. This process is given by:\n",
    "\n",
    "$$\n",
    "\\large y=(1 - s)x_o + s x_i\n",
    "$$\n",
    "\n",
    "where *s* is the sigmoid transition and $\\large x_o, x_i$ are the two signal to have the transition."
   ]
  },
  {
   "cell_type": "code",
   "execution_count": null,
   "metadata": {},
   "outputs": [],
   "source": [
    "# logistic function transition\n",
    "def logisticFunction(t, t0, k, L=1):\n",
    "    return L/(1 + np.exp(-k*(t - t0)))\n",
    "\n",
    "t0 = 0\n",
    "k = 256\n",
    "s = logisticFunction(t, t0, k)\n",
    "x = (1 - s)*xo + s*xi\n",
    "audiovis(s, time=t, tlim=[-0.1, 0.1], text='Logistic function | t0 = {0}, k = {1}'.format(t0, k))\n",
    "audiovis(x, time=t, tlim=[-0.1, 0.1], text='Signal with less discontinuity | transition by logistic function')"
   ]
  },
  {
   "cell_type": "code",
   "execution_count": null,
   "metadata": {},
   "outputs": [],
   "source": [
    "Audio(x, rate=fs) # no 'tic'"
   ]
  },
  {
   "cell_type": "code",
   "execution_count": null,
   "metadata": {},
   "outputs": [],
   "source": [
    "spectrogram(x, flim=[0, 1000], text='Less descontinuity spectrogram')"
   ]
  }
 ],
 "metadata": {
  "kernelspec": {
   "display_name": "Python 3",
   "language": "python",
   "name": "python3"
  },
  "language_info": {
   "codemirror_mode": {
    "name": "ipython",
    "version": 3
   },
   "file_extension": ".py",
   "mimetype": "text/x-python",
   "name": "python",
   "nbconvert_exporter": "python",
   "pygments_lexer": "ipython3",
   "version": "3.7.7"
  }
 },
 "nbformat": 4,
 "nbformat_minor": 2
}
