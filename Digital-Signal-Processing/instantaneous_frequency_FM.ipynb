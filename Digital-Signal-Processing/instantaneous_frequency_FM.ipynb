{
 "cells": [
  {
   "cell_type": "markdown",
   "metadata": {},
   "source": [
    "# Instantaneous Frequency\n",
    "---\n",
    "- Author: Diego Inácio\n",
    "- GitHub: [github.com/diegoinacio](https://github.com/diegoinacio)\n",
    "- Notebook: [instantaneous_frequency_FM.ipynb](https://github.com/diegoinacio/computer-vision-notebooks/blob/master/Digital-Signal-Processing/instantaneous_frequency_FM.ipynb)\n",
    "---\n",
    "Analytical approach to continuous *Instantaneous Frequency* and *Frequency Modulation*."
   ]
  },
  {
   "cell_type": "code",
   "execution_count": null,
   "metadata": {},
   "outputs": [],
   "source": [
    "%matplotlib inline\n",
    "import matplotlib.pyplot as plt\n",
    "from IPython.display import Audio\n",
    "import numpy as np\n",
    "\n",
    "from _utils import *"
   ]
  },
  {
   "cell_type": "code",
   "execution_count": null,
   "metadata": {},
   "outputs": [],
   "source": [
    "fs = 44100   # sampling rate 44.1 kHz\n",
    "T = 3        # duration in seconds\n",
    "t = np.linspace(0, T, fs*T)"
   ]
  },
  {
   "cell_type": "markdown",
   "metadata": {},
   "source": [
    "## 1. Instantaneous frequency\n",
    "---\n",
    "A modulated signal can be expressed as:\n",
    "$$ \\large\n",
    "x(t)=a(t)\\cos(\\phi(t))\n",
    "$$\n",
    "where:\n",
    "- The *instantaneous amplitude* or envelope is given by $\\large a(t)$;\n",
    "- The *instantaneous phase* is given by $\\large \\phi(t)$;\n",
    "- The *instantaneous angular frequency* is given by $\\large \\omega(t)=\\frac{d}{dt}\\phi(t)$;\n",
    "- The *instantaneous ordinary frequency* is given by $\\large f(t)=\\frac{1}{2\\pi}\\frac{d}{dt}\\phi(t)$."
   ]
  },
  {
   "cell_type": "markdown",
   "metadata": {},
   "source": [
    "## 2. Examples\n",
    "---\n",
    "Modulation using instantaneous frequency\n",
    "\n",
    "### 2.1. Linear frequency modulation\n",
    "---\n",
    "Given a *modulation frequency*, defined by:\n",
    "\n",
    "$$ \\large\n",
    "f(t)=f_a+\\frac{(f_b-f_a)t}{T}\n",
    "$$\n",
    "\n",
    "where $f(t)$ is linearly interpolated from $f_a$ to $f_b$."
   ]
  },
  {
   "cell_type": "code",
   "execution_count": null,
   "metadata": {},
   "outputs": [],
   "source": [
    "fa = 880      # frequency A\n",
    "fb = 100      # frequency B\n",
    "\n",
    "# Linear interpolation from fa to fb\n",
    "ft = fa + (fb - fa)*t/T"
   ]
  },
  {
   "cell_type": "code",
   "execution_count": null,
   "metadata": {},
   "outputs": [],
   "source": [
    "audiovis(ft)"
   ]
  },
  {
   "cell_type": "markdown",
   "metadata": {},
   "source": [
    "The modulated signal whithout instantaneous frequency is:\n",
    "\n",
    "$$ \\large\n",
    "x(t)=sin(2\\pi f(t)t)\n",
    "$$\n",
    "\n",
    "In this example the carrier frequency is zero ($\\phi_c=0$)."
   ]
  },
  {
   "cell_type": "code",
   "execution_count": null,
   "metadata": {},
   "outputs": [],
   "source": [
    "xt = np.sin(2*np.pi*ft*t)\n",
    "Audio(xt, rate=fs)"
   ]
  },
  {
   "cell_type": "code",
   "execution_count": null,
   "metadata": {},
   "outputs": [],
   "source": [
    "spectrogram(xt, flim=[0, 1000])"
   ]
  },
  {
   "cell_type": "markdown",
   "metadata": {},
   "source": [
    "If we considere:\n",
    "\n",
    "$$ \\large\n",
    "\\phi(t)=\\int\\omega(t)dt=2\\pi\\int f(t)dt\n",
    "$$\n",
    "\n",
    "the modulated signal by the *instantaneous frequency* could be expressed by:\n",
    "\n",
    "$$ \\large\n",
    "x_m(t)=sin(\\phi(t))=sin\\left(2\\pi\\left[f_at+\\frac{(f_b-f_a)t^2}{2T}\\right]\\right)\n",
    "$$"
   ]
  },
  {
   "cell_type": "code",
   "execution_count": null,
   "metadata": {},
   "outputs": [],
   "source": [
    "xm = np.sin(2*np.pi*(fa*t + (fb - fa)*t**2/(2*T)))\n",
    "Audio(xm, rate=fs)"
   ]
  },
  {
   "cell_type": "code",
   "execution_count": null,
   "metadata": {},
   "outputs": [],
   "source": [
    "spectrogram(xm, flim=[0, 1000])"
   ]
  },
  {
   "cell_type": "markdown",
   "metadata": {},
   "source": [
    "### 2.2. Exponencial frequency modulation\n",
    "---\n",
    "$$ \\large\n",
    "f(t)=f_a+\\frac{f_b-f_a}{1+e^{-k\\left(\\frac{t}{T}-\\frac{1}{2}\\right)}}\n",
    "$$\n",
    "\n",
    "$f(t)$ is a mudulation frequency which interpoles from $f_a$ to $f_b$ exponentially. It's inspired by the *sigmoid function* where $k$ is the slope of the middle point."
   ]
  },
  {
   "cell_type": "code",
   "execution_count": null,
   "metadata": {},
   "outputs": [],
   "source": [
    "fa = 880      # frequency A\n",
    "fb = 100      # frequency B\n",
    "k = 12        # slope of the middle point\n",
    "\n",
    "e_k = np.exp(-k*(t/T - 1/2))\n",
    "\n",
    "# Exponential interpolation\n",
    "ft = fa + (fb - fa)/(1 + e_k)"
   ]
  },
  {
   "cell_type": "code",
   "execution_count": null,
   "metadata": {},
   "outputs": [],
   "source": [
    "audiovis(ft)"
   ]
  },
  {
   "cell_type": "code",
   "execution_count": null,
   "metadata": {},
   "outputs": [],
   "source": [
    "xt = np.sin(2*np.pi*ft*t)\n",
    "Audio(xt, rate=fs)"
   ]
  },
  {
   "cell_type": "code",
   "execution_count": null,
   "metadata": {},
   "outputs": [],
   "source": [
    "spectrogram(xt, flim=[0, 1200])"
   ]
  },
  {
   "cell_type": "markdown",
   "metadata": {},
   "source": [
    "The modulated signal by the *instantaneous frequency* could be expressed by:\n",
    "\n",
    "$$ \\large\n",
    "x_m(t)=sin(\\phi(t))=sin\\left(2\\pi\\left[f_at-\\frac{(f_b-f_a)T}{k}\\left[\\ln(e^{-k\\left(\\frac{t}{T}-\\frac{1}{2}\\right)}) - \\ln(e^{-k\\left(\\frac{t}{T}-\\frac{1}{2}\\right)}+1)\\right]\\right]\\right)\n",
    "$$"
   ]
  },
  {
   "cell_type": "code",
   "execution_count": null,
   "metadata": {},
   "outputs": [],
   "source": [
    "xm = np.sin(2*np.pi*(fa*t - (fb - fa)*T/k*(np.log(e_k) - np.log(e_k + 1))))\n",
    "Audio(xm, rate=fs)"
   ]
  },
  {
   "cell_type": "code",
   "execution_count": null,
   "metadata": {},
   "outputs": [],
   "source": [
    "spectrogram(xm, flim=[0, 1000])"
   ]
  },
  {
   "cell_type": "markdown",
   "metadata": {},
   "source": [
    "### 2.3. Sinusoidal frequency modulation\n",
    "\n",
    "---\n",
    "$$ \\large\n",
    "f(t)=f_a+\\frac{f_b-f_a}{2}[sin(2\\pi f_m t) + 1]\n",
    "$$\n",
    "\n",
    "$f(t)$ is a mudulation frequency which oscillates from $f_a$ to $f_b$ given a sinusoidal function where $f_m$ is the ordinary froquency."
   ]
  },
  {
   "cell_type": "code",
   "execution_count": null,
   "metadata": {},
   "outputs": [],
   "source": [
    "fa = 110      # frequency A\n",
    "fb = 440      # frequency B\n",
    "fm = 1        # oscillator's ordinary frequency\n",
    "\n",
    "# frequency oscillator\n",
    "ft = fa + (fb - fa)/2*(np.sin(2*np.pi*fm*t) + 1)"
   ]
  },
  {
   "cell_type": "code",
   "execution_count": null,
   "metadata": {},
   "outputs": [],
   "source": [
    "summary(ft)"
   ]
  },
  {
   "cell_type": "code",
   "execution_count": null,
   "metadata": {},
   "outputs": [],
   "source": [
    "audiovis(ft)"
   ]
  },
  {
   "cell_type": "code",
   "execution_count": null,
   "metadata": {},
   "outputs": [],
   "source": [
    "xt = np.sin(2*np.pi*ft*t)\n",
    "Audio(xt, rate=fs)"
   ]
  },
  {
   "cell_type": "code",
   "execution_count": null,
   "metadata": {},
   "outputs": [],
   "source": [
    "spectrogram(xt, flim=[0, 3000])"
   ]
  },
  {
   "cell_type": "markdown",
   "metadata": {},
   "source": [
    "The modulated signal by the *instantaneous frequency* could be expressed by:\n",
    "\n",
    "$$ \\large\n",
    "x_m(t)=sin(\\phi(t))=sin\\left(2\\pi\\left[f_at+\\frac{f_b-f_a}{2}\\left[-\\frac{cos(2\\pi f_m t)}{2\\pi f_m}+t\\right]\\right]\\right)\n",
    "$$"
   ]
  },
  {
   "cell_type": "code",
   "execution_count": null,
   "metadata": {},
   "outputs": [],
   "source": [
    "xm = np.sin(2*np.pi*(fa*t + (fb - fa)/2*(-np.cos(2*np.pi*fm*t)/(2*np.pi*fm) + t)))\n",
    "Audio(xm, rate=fs)"
   ]
  },
  {
   "cell_type": "code",
   "execution_count": null,
   "metadata": {},
   "outputs": [],
   "source": [
    "spectrogram(xm, flim=[0, 660])"
   ]
  }
 ],
 "metadata": {
  "kernelspec": {
   "display_name": "Python 3",
   "language": "python",
   "name": "python3"
  },
  "language_info": {
   "codemirror_mode": {
    "name": "ipython",
    "version": 3
   },
   "file_extension": ".py",
   "mimetype": "text/x-python",
   "name": "python",
   "nbconvert_exporter": "python",
   "pygments_lexer": "ipython3",
   "version": "3.7.7"
  }
 },
 "nbformat": 4,
 "nbformat_minor": 2
}
