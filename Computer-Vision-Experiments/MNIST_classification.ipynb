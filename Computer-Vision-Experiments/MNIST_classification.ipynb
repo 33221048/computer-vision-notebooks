{
 "cells": [
  {
   "cell_type": "markdown",
   "metadata": {},
   "source": [
    "# MNIST Classification\n",
    "---\n",
    "- Author: Diego Inácio\n",
    "- GitHub: [github.com/diegoinacio](https://github.com/diegoinacio)\n",
    "- Notebook: [MNIST_classification.ipynb](https://github.com/diegoinacio/computer-vision-notebooks/blob/master/Computer-Vision-Experiments/MNIST_classification.ipynb)\n",
    "---\n",
    "Digit classification using *Shallow Neural Network* and *Convolutional Neural Network*."
   ]
  },
  {
   "cell_type": "code",
   "execution_count": null,
   "metadata": {},
   "outputs": [],
   "source": [
    "%matplotlib inline\n",
    "import matplotlib\n",
    "import matplotlib.pyplot as plt\n",
    "import numpy as np\n",
    "from PIL import Image\n",
    "\n",
    "import tensorflow as tf"
   ]
  },
  {
   "cell_type": "code",
   "execution_count": null,
   "metadata": {},
   "outputs": [],
   "source": [
    "plt.rcParams['figure.figsize'] = (20, 10)"
   ]
  },
  {
   "cell_type": "markdown",
   "metadata": {},
   "source": [
    "## Read the dataset\n",
    "---"
   ]
  },
  {
   "cell_type": "code",
   "execution_count": null,
   "metadata": {},
   "outputs": [],
   "source": [
    "mnist = tf.keras.datasets.mnist\n",
    "[X_train, Y_train],[X_test, Y_test] = mnist.load_data()\n",
    "X_train = X_train[..., None]\n",
    "X_test = X_test[..., None]\n",
    "\n",
    "# one hot for multi-class classification\n",
    "# MNIST = 10 classes [0-9]\n",
    "Y_train_oh = np.zeros((Y_train.size, 10))\n",
    "Y_train_oh[np.arange(Y_train.size), Y_train] = 1\n",
    "Y_test_oh = np.zeros((Y_test.size, 10))\n",
    "Y_test_oh[np.arange(Y_test.size), Y_test] = 1\n",
    "\n",
    "print('X_train:', X_train.shape)\n",
    "print('Y_train:', Y_train.shape)\n",
    "print('Y_train_oh:', Y_train_oh.shape)\n",
    "print('X_test:', X_test.shape)\n",
    "print('Y_test:', Y_test.shape)\n",
    "print('Y_test_oh:', Y_test_oh.shape)"
   ]
  },
  {
   "cell_type": "code",
   "execution_count": null,
   "metadata": {},
   "outputs": [],
   "source": [
    "fig, AX = plt.subplots(3, 6, sharex=True, sharey=True)\n",
    "\n",
    "np.random.seed(1234)\n",
    "for ax in AX.ravel():\n",
    "    rindex = np.random.randint(Y_train.size)\n",
    "    img_show = X_train[rindex][...,0]\n",
    "    ax.imshow(img_show, cmap='gray')\n",
    "    # title label + one-hot\n",
    "    title = f'{Y_train[rindex]} :: '\n",
    "    title += ''.join([str(int(e)) for e in Y_train_oh[rindex]]) \n",
    "    ax.set_title(title)\n",
    "plt.grid(False)"
   ]
  },
  {
   "cell_type": "markdown",
   "metadata": {},
   "source": [
    "## Transform dataset\n",
    "---"
   ]
  },
  {
   "cell_type": "code",
   "execution_count": null,
   "metadata": {},
   "outputs": [],
   "source": [
    "# Chanfe dtype to float32\n",
    "X_train = X_train.astype(np.float32)\n",
    "Y_train = Y_train.astype(np.float32)\n",
    "X_test = X_test.astype(np.float32)\n",
    "Y_test = Y_test.astype(np.float32)\n",
    "\n",
    "# Change axes and normalization\n",
    "X_train, Y_train = X_train/255, Y_train.reshape(-1, 1)\n",
    "X_test, Y_test = X_test/255, Y_test.reshape(-1, 1)\n",
    "\n",
    "# reshape Xs\n",
    "x_train = X_train.reshape(-1, 28*28)\n",
    "x_test = X_test.reshape(-1, 28*28)\n",
    "\n",
    "print('X_train:', X_train.shape)\n",
    "print('x_train:', x_train.shape)\n",
    "print('Y_train:', Y_train.shape)\n",
    "print('Y_train_oh:', Y_train_oh.shape)\n",
    "print('X_test:', X_test.shape)\n",
    "print('x_test:', x_test.shape)\n",
    "print('Y_test:', Y_test.shape)\n",
    "print('Y_test_oh:', Y_test_oh.shape)"
   ]
  },
  {
   "cell_type": "markdown",
   "metadata": {},
   "source": [
    "## Classification using *Shallow Neural Network*\n",
    "---\n",
    "One-hidden-layer neural network"
   ]
  },
  {
   "cell_type": "code",
   "execution_count": null,
   "metadata": {},
   "outputs": [],
   "source": [
    "EPOCHS = 20    # epochs\n",
    "E = 5          # mini epoch\n",
    "ALPHA = 0.005  # learning rate\n",
    "BATCH = 1000   # batch size\n",
    "\n",
    "# Number of neurons on the hidden layer\n",
    "neurons = 32\n",
    "\n",
    "# m is the number of examples\n",
    "# n_x is the input size 28x28=784\n",
    "m, n_x = x_train.shape\n",
    "\n",
    "# modelSNN\n",
    "modelSNN = tf.keras.Sequential([\n",
    "    tf.keras.layers.Input(n_x),\n",
    "    tf.keras.layers.Dense(neurons, activation='relu'),\n",
    "    tf.keras.layers.Dense(10, activation='softmax')\n",
    "])\n",
    "\n",
    "# Compile modelSNN\n",
    "modelSNN.compile(\n",
    "    loss='categorical_crossentropy',\n",
    "    optimizer='SGD',\n",
    "    lr=ALPHA,\n",
    "    metrics=['accuracy']\n",
    ")\n",
    "\n",
    "# loss and accuracy storage\n",
    "loss_plot = []; accA_plot = []\n",
    "\n",
    "for epoch in range(EPOCHS + 1):\n",
    "    # randomic batch definition\n",
    "    rbatch = np.random.choice(Y_train.size, size=BATCH, replace=False)\n",
    "    # training, metrics and storage\n",
    "    modelSNN.fit(x_train[rbatch], Y_train_oh[rbatch], epochs=E, verbose=0)\n",
    "    loss_plot += [e*100 for e in modelSNN.history.history['loss']]\n",
    "    accA_plot += [e*100 for e in modelSNN.history.history['accuracy']]\n",
    "    if (not epoch % (EPOCHS//5)) and (epoch != 0):\n",
    "        print(f'epoch: {epoch*E:04d} | loss: {loss_plot[-1]:.3f} | accuracy: {accA_plot[-1]:06.2f} %')"
   ]
  },
  {
   "cell_type": "code",
   "execution_count": null,
   "metadata": {},
   "outputs": [],
   "source": [
    "fig, [axA, axB] = plt.subplots(2, 1, sharex=True)\n",
    "\n",
    "axA.plot(loss_plot)\n",
    "axA.set_ylabel('loss')\n",
    "axB.plot(accA_plot)\n",
    "axB.set_ylabel('accuracy')\n",
    "\n",
    "plt.xlabel('epochs')\n",
    "\n",
    "plt.show()"
   ]
  },
  {
   "cell_type": "code",
   "execution_count": null,
   "metadata": {},
   "outputs": [],
   "source": [
    "fig, AX = plt.subplots(5, 10, sharex=True)\n",
    "AX = [b for a in AX for b in a]\n",
    "\n",
    "pred = modelSNN.predict(x_test)\n",
    "\n",
    "np.random.seed(1234)\n",
    "for ax in AX:\n",
    "    index = np.random.randint(Y_test.size)\n",
    "    # Predict\n",
    "    A_ = pred[index]\n",
    "    Y_ = np.argmax(A_)\n",
    "    # Prepare image to show\n",
    "    img_show = np.ones((*x_test[index].shape, 3))\n",
    "    img_show *= x_test[index][..., None]\n",
    "    img_show = img_show.reshape(28, 28, 3)\n",
    "    # Green square: classified correctly\n",
    "    # Red square: classified wrongly\n",
    "    if Y_ == Y_test[index]:\n",
    "        img_show[-4:, -4:] = (0, 1, 0)\n",
    "    else:\n",
    "        img_show[-4:, -4:] = (1, 0, 0)\n",
    "    ax.imshow(img_show)\n",
    "    ax.set_title(r'$\\hat{Y_i}$ = ' + str(Y_) + r' ; $A_i$ = {:.02f}'.format(float(A_[Y_])), fontsize=10)"
   ]
  },
  {
   "cell_type": "code",
   "execution_count": null,
   "metadata": {},
   "outputs": [],
   "source": [
    "print('Validation')\n",
    "pred1 = modelSNN.predict(x_test)\n",
    "print('Test:', np.sum((Y_test_oh - pred1)**2, axis=1).mean())\n",
    "pred2 = modelSNN.predict(x_train)\n",
    "print('Train:', np.sum((Y_train_oh - pred2)**2, axis=1).mean())"
   ]
  },
  {
   "cell_type": "markdown",
   "metadata": {},
   "source": [
    "## Classification using *Convolutional Neural Network*\n",
    "---"
   ]
  },
  {
   "cell_type": "code",
   "execution_count": null,
   "metadata": {},
   "outputs": [],
   "source": [
    "# Get dimensions\n",
    "N1, N2, C = X_train[0].shape\n",
    "\n",
    "# Model\n",
    "modelCNN = tf.keras.Sequential([\n",
    "    tf.keras.layers.Input(X_train[0].shape),\n",
    "    tf.keras.layers.Conv2D(32, 3, activation='relu'),\n",
    "    tf.keras.layers.Conv2D(64, 3, activation='relu'),\n",
    "    tf.keras.layers.MaxPooling2D(pool_size=2),\n",
    "    tf.keras.layers.Dropout(0.25),\n",
    "    tf.keras.layers.Flatten(),\n",
    "    tf.keras.layers.Dense(N1*N2, activation='relu'),\n",
    "    tf.keras.layers.Dropout(0.5),\n",
    "    tf.keras.layers.Dense(10, activation='softmax')\n",
    "])\n",
    "\n",
    "modelCNN.summary()"
   ]
  },
  {
   "cell_type": "code",
   "execution_count": null,
   "metadata": {},
   "outputs": [],
   "source": [
    "modelCNN.compile(\n",
    "    loss='categorical_crossentropy',\n",
    "    optimizer='adam',\n",
    "    metrics=['accuracy']\n",
    ")\n",
    "\n",
    "modelCNN.fit(X_train, Y_train_oh, epochs=5)"
   ]
  },
  {
   "cell_type": "code",
   "execution_count": null,
   "metadata": {},
   "outputs": [],
   "source": [
    "fig, AX = plt.subplots(5, 10, sharex=True)\n",
    "AX = [b for a in AX for b in a]\n",
    "\n",
    "pred = modelCNN.predict(X_test)\n",
    "\n",
    "np.random.seed(1234)\n",
    "for ax in AX:\n",
    "    index = np.random.randint(Y_test.size)\n",
    "    # Predict\n",
    "    A_ = pred[index]\n",
    "    Y_ = np.argmax(A_)\n",
    "    # Prepare image to show\n",
    "    img_show = np.ones((N1, N2, 3))\n",
    "    img_show *= X_test[index]\n",
    "    # Green square: classified correctly\n",
    "    # Red square: classified wrongly\n",
    "    if Y_ == Y_test[index]:\n",
    "        img_show[-4:, -4:] = (0, 1, 0)\n",
    "    else:\n",
    "        img_show[-4:, -4:] = (1, 0, 0)\n",
    "    ax.imshow(img_show)\n",
    "    ax.set_title(r'$\\hat{Y_i}$ = ' + str(Y_) + r' ; $A_i$ = {:.02f}'.format(float(A_[Y_])), fontsize=10)"
   ]
  },
  {
   "cell_type": "code",
   "execution_count": null,
   "metadata": {},
   "outputs": [],
   "source": [
    "print('Validation')\n",
    "pred1 = modelCNN.predict(X_test)\n",
    "print('Test:', np.sum((Y_test_oh - pred1)**2, axis=1).mean())\n",
    "pred2 = modelCNN.predict(X_train)\n",
    "print('Train:', np.sum((Y_train_oh - pred2)**2, axis=1).mean())"
   ]
  }
 ],
 "metadata": {
  "kernelspec": {
   "display_name": "Python [conda env:tfgpu]",
   "language": "python",
   "name": "conda-env-tfgpu-py"
  },
  "language_info": {
   "codemirror_mode": {
    "name": "ipython",
    "version": 3
   },
   "file_extension": ".py",
   "mimetype": "text/x-python",
   "name": "python",
   "nbconvert_exporter": "python",
   "pygments_lexer": "ipython3",
   "version": "3.7.7"
  }
 },
 "nbformat": 4,
 "nbformat_minor": 2
}
