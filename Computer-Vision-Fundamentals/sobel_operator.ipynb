{
 "cells": [
  {
   "cell_type": "markdown",
   "metadata": {},
   "source": [
    "# Sobel Operator\n",
    "---\n",
    "- Author: Diego Inácio\n",
    "- GitHub: [github.com/diegoinacio](https://github.com/diegoinacio)\n",
    "- Notebook: [sobel_operator.ipynb](https://github.com/diegoinacio/computer-vision-notebooks/blob/master/Computer-Vision-Fundamentals/sobel_operator.ipynb)\n",
    "---\n",
    "Sobel and gradient operation with spatial filtering."
   ]
  },
  {
   "cell_type": "code",
   "execution_count": null,
   "metadata": {},
   "outputs": [],
   "source": [
    "%matplotlib inline\n",
    "# Visualization\n",
    "import matplotlib as mpl\n",
    "import matplotlib.pyplot as plt\n",
    "\n",
    "# Linear algebra operations\n",
    "import numpy as np\n",
    "\n",
    "# Image IO\n",
    "import imageio\n",
    "\n",
    "# Performance\n",
    "from numba import jit, prange\n",
    "\n",
    "# Utils\n",
    "from _utils import *"
   ]
  },
  {
   "cell_type": "code",
   "execution_count": null,
   "metadata": {},
   "outputs": [],
   "source": [
    "import warnings\n",
    "warnings.filterwarnings('ignore')"
   ]
  },
  {
   "cell_type": "markdown",
   "metadata": {},
   "source": [
    "## Sobel operator\n",
    "---\n",
    "The [Sobel–Feldman](https://en.wikipedia.org/wiki/Sobel_operator#Extension_to_other_dimensions) is a gradient operator that consists of two separable convolutional operations:\n",
    "\n",
    "- Smoothing perpendicular to the derivative direction with a triangle filter\n",
    "- Simple central difference in the derivative direction\n",
    "\n",
    "Given that, we could define the operations as:\n",
    "\n",
    "$$ \\large\n",
    "G_x = \n",
    "\\begin{bmatrix}\n",
    "1 \\\\\n",
    "2 \\\\\n",
    "1\n",
    "\\end{bmatrix}\n",
    "* \\left(\n",
    "\\begin{bmatrix}\n",
    "+1 & 0 & -1\n",
    "\\end{bmatrix}\n",
    "*I \\right)\n",
    "=\n",
    "\\begin{bmatrix}\n",
    "+1 & 0 & -1 \\\\\n",
    "+2 & 0 & -2 \\\\\n",
    "+1 & 0 & -1\n",
    "\\end{bmatrix}\n",
    "* I\n",
    "$$\n",
    "\n",
    "\n",
    "$$ \\large\n",
    "G_y = \n",
    "\\begin{bmatrix}\n",
    "+1 \\\\\n",
    "0 \\\\\n",
    "-1\n",
    "\\end{bmatrix}\n",
    "* \\left(\n",
    "\\begin{bmatrix}\n",
    "1 & 2 & 1\n",
    "\\end{bmatrix}\n",
    "*I \\right)\n",
    "=\n",
    "\\begin{bmatrix}\n",
    "+1 & +2 & +1 \\\\\n",
    "0 & 0 & 0 \\\\\n",
    "-1 & -2 & -1\n",
    "\\end{bmatrix}\n",
    "* I\n",
    "$$"
   ]
  },
  {
   "cell_type": "code",
   "execution_count": null,
   "metadata": {},
   "outputs": [],
   "source": [
    "# Triangle filter\n",
    "ht = np.array([[1, 2, 1]])\n",
    "\n",
    "# Central difference\n",
    "hc = np.array([[1, 0, -1]])\n",
    "\n",
    "# Sobel operator\n",
    "Hx = ht.T*hc\n",
    "Hy = hc.T*ht\n",
    "\n",
    "print(Hx, end=' Hx\\n\\n')\n",
    "print(Hy, end=' Hy\\n\\n')"
   ]
  },
  {
   "cell_type": "code",
   "execution_count": null,
   "metadata": {},
   "outputs": [],
   "source": [
    "@jit(nopython=True, parallel=True)\n",
    "def convolve(x, h):\n",
    "    xh, xw = x.shape\n",
    "    hh, hw = h.shape\n",
    "    # Kernel radius\n",
    "    rh, rw = np.array(h.shape)//2\n",
    "    # Init output\n",
    "    output = np.zeros(x.shape)\n",
    "    for n1 in prange(rh, xh-rh):\n",
    "        for n2 in prange(rw, xw-rw):\n",
    "            value = 0\n",
    "            for k1 in prange(hh):\n",
    "                for k2 in prange(hw):\n",
    "                    value += h[k1, k2]*x[n1 + k1 - rh, n2 + k2 - rw]\n",
    "            output[n1, n2] = value\n",
    "    return output"
   ]
  },
  {
   "cell_type": "markdown",
   "metadata": {},
   "source": [
    "## Sobel operator and patial filtering\n",
    "---\n",
    "Applying *Sobel operator* as spatial filtering by the application of *discrete convolution* on images."
   ]
  },
  {
   "cell_type": "code",
   "execution_count": null,
   "metadata": {},
   "outputs": [],
   "source": [
    "img_in = imageio.imread('../_data/pimentos.png')/255\n",
    "img_in = np.median(img_in, axis=2)\n",
    "histogram(img_in, interval=[0, 1])"
   ]
  },
  {
   "cell_type": "code",
   "execution_count": null,
   "metadata": {},
   "outputs": [],
   "source": [
    "%%time\n",
    "r = 1\n",
    "\n",
    "# Padding zero\n",
    "img_pad = np.pad(\n",
    "    img_in,\n",
    "    ((r, r), (r, r)),\n",
    "    'edge'\n",
    ")\n",
    "\n",
    "# Convolution\n",
    "Gx = convolve(img_pad, Hx)[r:-r, r:-r]\n",
    "histogram(Gx,interval=[Gx.min(), Gx.max()])\n",
    "\n",
    "Gy = convolve(img_pad, Hy)[r:-r, r:-r]\n",
    "histogram(Gy, interval=[Gy.min(), Gy.max()])"
   ]
  },
  {
   "cell_type": "markdown",
   "metadata": {},
   "source": [
    "The *gradient magnitude* is defined as:\n",
    "\n",
    "$$ \\large\n",
    "G = \\sqrt{G_x^2+G_y^2}\n",
    "$$"
   ]
  },
  {
   "cell_type": "code",
   "execution_count": null,
   "metadata": {},
   "outputs": [],
   "source": [
    "G = (Gx**2 + Gy**2)**0.5\n",
    "histogram(G, interval=[0, 1])"
   ]
  },
  {
   "cell_type": "markdown",
   "metadata": {},
   "source": [
    "The *gradient direction* is defined as:\n",
    "\n",
    "$$ \\large\n",
    "\\Theta = \\arctan\\left(\\frac{G_y}{G_x}\\right)\n",
    "$$"
   ]
  },
  {
   "cell_type": "code",
   "execution_count": null,
   "metadata": {},
   "outputs": [],
   "source": [
    "Theta = np.arctan2(Gy, Gx)\n",
    "histogram(Theta, interval=[Theta.min(), Theta.max()])"
   ]
  },
  {
   "cell_type": "markdown",
   "metadata": {},
   "source": [
    "## Different operator sizes\n",
    "---"
   ]
  },
  {
   "cell_type": "code",
   "execution_count": null,
   "metadata": {},
   "outputs": [],
   "source": [
    "def SobelOp(radius, direction=\"x\"):\n",
    "    size = 2*radius + 1\n",
    "    \n",
    "    # Triangle filter\n",
    "    ht = np.arange(size) + 1\n",
    "    ht[size//2:] = ht[::-1][size//2:]\n",
    "    ht = ht[np.newaxis]\n",
    "    \n",
    "    # Central difference\n",
    "    hc = np.arange(size)\n",
    "    hc = hc[::-1] - size//2\n",
    "    hc = hc[np.newaxis]\n",
    "    \n",
    "    # Sobel operator\n",
    "    if(direction == \"y\"):\n",
    "        return hc.T*ht\n",
    "    return ht.T*hc\n",
    "\n",
    "print(SobelOp(2, \"x\"), end=' Hx 5x5\\n\\n')\n",
    "print(SobelOp(2, \"y\"), end=' Hy 5x5\\n\\n')"
   ]
  },
  {
   "cell_type": "code",
   "execution_count": null,
   "metadata": {},
   "outputs": [],
   "source": [
    "%%time\n",
    "r = 3\n",
    "\n",
    "# Padding zero\n",
    "img_pad = np.pad(\n",
    "    img_in,\n",
    "    ((r, r), (r, r)),\n",
    "    'edge'\n",
    ")\n",
    "\n",
    "# Convolution\n",
    "Gx = convolve(img_pad, SobelOp(r, \"x\"))[r:-r, r:-r]\n",
    "histogram(Gx,interval=[Gx.min(), Gx.max()])\n",
    "\n",
    "Gy = convolve(img_pad, SobelOp(r, \"y\"))[r:-r, r:-r]\n",
    "histogram(Gy, interval=[Gy.min(), Gy.max()])"
   ]
  }
 ],
 "metadata": {
  "kernelspec": {
   "display_name": "Python [conda env:imaging]",
   "language": "python",
   "name": "conda-env-imaging-py"
  },
  "language_info": {
   "codemirror_mode": {
    "name": "ipython",
    "version": 3
   },
   "file_extension": ".py",
   "mimetype": "text/x-python",
   "name": "python",
   "nbconvert_exporter": "python",
   "pygments_lexer": "ipython3",
   "version": "3.7.4"
  }
 },
 "nbformat": 4,
 "nbformat_minor": 2
}
