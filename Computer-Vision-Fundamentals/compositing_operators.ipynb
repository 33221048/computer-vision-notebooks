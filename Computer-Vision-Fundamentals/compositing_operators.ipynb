{
 "cells": [
  {
   "cell_type": "markdown",
   "metadata": {},
   "source": [
    "# Compositing Operators\n",
    "---\n",
    "- Author: Diego Inácio\n",
    "- GitHub: [github.com/diegoinacio](https://github.com/diegoinacio)\n",
    "- Notebook: [compositing_operators.ipynb](https://github.com/diegoinacio/computer-vision-notebooks/blob/master/Computer-Vision-Fundamentals/compositing_operators.ipynb)\n",
    "---\n",
    "Methods for combining and mixing images."
   ]
  },
  {
   "cell_type": "code",
   "execution_count": null,
   "metadata": {},
   "outputs": [],
   "source": [
    "%matplotlib inline\n",
    "import matplotlib as mpl\n",
    "import matplotlib.pyplot as plt\n",
    "import numpy as np\n",
    "import imageio\n",
    "\n",
    "from _utils import *"
   ]
  },
  {
   "cell_type": "code",
   "execution_count": null,
   "metadata": {},
   "outputs": [],
   "source": [
    "import warnings\n",
    "warnings.filterwarnings('ignore')"
   ]
  },
  {
   "cell_type": "markdown",
   "metadata": {},
   "source": [
    "## Input images\n",
    "---\n",
    "Given the input images $A$ and $B$ (*sRGB* colorspace).\n",
    "\n",
    "*p.s.: All the input images are normalized between 0-1.*"
   ]
  },
  {
   "cell_type": "code",
   "execution_count": null,
   "metadata": {},
   "outputs": [],
   "source": [
    "# Input and normalize to [0, 1]\n",
    "A = imageio.imread('../_data/fruits.png')/255\n",
    "histogram(A, bins=2**8, interval=[0, 1])\n",
    "\n",
    "B = imageio.imread('../_data/pimentos.png')/255\n",
    "histogram(B, bins=2**8, interval=[0, 1])"
   ]
  },
  {
   "cell_type": "markdown",
   "metadata": {},
   "source": [
    "## Alpha compositing operators\n",
    "---"
   ]
  },
  {
   "cell_type": "code",
   "execution_count": null,
   "metadata": {},
   "outputs": [],
   "source": [
    "n1, n2, _ = A.shape\n",
    "a = np.zeros((n1, n2, 1))\n",
    "a[50:350, 50:350] = 1\n",
    "\n",
    "n1, n2, _ = B.shape\n",
    "b = np.zeros((n1, n2, 1))\n",
    "b[200:400] = 1\n",
    "\n",
    "panel(\n",
    "    np.array([a[...,0], b[...,0]]), [2, 1],\n",
    "    text_size=24, text_color='lightgreen',\n",
    "    texts=[r'$\\alpha$', r'$\\beta$']\n",
    ")"
   ]
  },
  {
   "cell_type": "markdown",
   "metadata": {},
   "source": [
    "### Over\n",
    "---\n",
    "$$ \\large\n",
    "O = A\\alpha+B(1-\\alpha)\n",
    "$$"
   ]
  },
  {
   "cell_type": "code",
   "execution_count": null,
   "metadata": {},
   "outputs": [],
   "source": [
    "O = A*a + B*(1 - a)\n",
    "histogram(O, bins=2**8, interval=[0, 1])"
   ]
  },
  {
   "cell_type": "markdown",
   "metadata": {},
   "source": [
    "### Atop\n",
    "---\n",
    "$$ \\large\n",
    "O = A\\beta+B(1-\\alpha)\n",
    "$$"
   ]
  },
  {
   "cell_type": "code",
   "execution_count": null,
   "metadata": {},
   "outputs": [],
   "source": [
    "O = A*b + B*(1 - a)\n",
    "histogram(O, bins=2**8, interval=[0, 1])"
   ]
  },
  {
   "cell_type": "markdown",
   "metadata": {},
   "source": [
    "### Conjoint over\n",
    "---\n",
    "$$ \\large\n",
    "O =\n",
    "\\begin{cases}\n",
    "    A &, \\text{if } \\alpha > \\beta \\\\\n",
    "    A+\\frac{B(1-\\alpha)}{\\beta} &, \\text{otherwise}\n",
    "\\end{cases}\n",
    "$$"
   ]
  },
  {
   "cell_type": "code",
   "execution_count": null,
   "metadata": {},
   "outputs": [],
   "source": [
    "O = A + B*(1 - a)/b\n",
    "cond = (a > b)[...,0]\n",
    "O[cond] = A[cond]\n",
    "histogram(O, bins=2**8, interval=[0, 1])"
   ]
  },
  {
   "cell_type": "markdown",
   "metadata": {},
   "source": [
    "### Disjoint over\n",
    "---\n",
    "$$ \\large\n",
    "O =\n",
    "\\begin{cases}\n",
    "    A+B &, \\text{if } \\alpha+\\beta < 1 \\\\\n",
    "    A+\\frac{B(1-\\alpha)}{\\beta} &, \\text{otherwise}\n",
    "\\end{cases}\n",
    "$$"
   ]
  },
  {
   "cell_type": "code",
   "execution_count": null,
   "metadata": {},
   "outputs": [],
   "source": [
    "O = A + B*(1 - a)/b\n",
    "cond = ((a + b) < 1)[...,0]\n",
    "O[cond] = (A + B)[cond]\n",
    "histogram(O, bins=2**8, interval=[0, 1])"
   ]
  },
  {
   "cell_type": "markdown",
   "metadata": {},
   "source": [
    "### In\n",
    "---\n",
    "$$ \\large\n",
    "O = A\\beta\n",
    "$$"
   ]
  },
  {
   "cell_type": "code",
   "execution_count": null,
   "metadata": {},
   "outputs": [],
   "source": [
    "O = A*b\n",
    "histogram(O, bins=2**8, interval=[0, 1])"
   ]
  },
  {
   "cell_type": "markdown",
   "metadata": {},
   "source": [
    "### Xor\n",
    "---\n",
    "$$ \\large\n",
    "O = A(1 - \\beta) + B(1 - \\alpha)\n",
    "$$"
   ]
  },
  {
   "cell_type": "code",
   "execution_count": null,
   "metadata": {},
   "outputs": [],
   "source": [
    "O = A*(1 - b) + B*(1 - a)\n",
    "histogram(O, bins=2**8, interval=[0, 1])"
   ]
  },
  {
   "cell_type": "markdown",
   "metadata": {},
   "source": [
    "## Blend modes\n",
    "---\n",
    "Due the input images are in *sRGB* colorspace, it is necessary to linearize them by the $\\gamma = 2.2$ before operating and the output must be transformed to *sRGB* by inverting the $\\gamma$.\n",
    "\n",
    "$$ \\large\n",
    "I' = I^{\\gamma} \\quad ; \\quad O' = O^{\\frac{1}{\\gamma}}\n",
    "$$"
   ]
  },
  {
   "cell_type": "code",
   "execution_count": null,
   "metadata": {},
   "outputs": [],
   "source": [
    "# Gamma\n",
    "g = 2.2\n",
    "\n",
    "# Gamma corrected\n",
    "A_, B_ = A**g, B**g"
   ]
  },
  {
   "cell_type": "markdown",
   "metadata": {},
   "source": [
    "### Average\n",
    "---\n",
    "$$ \\large\n",
    "O' = \\frac{A'+B'}{2}\n",
    "$$"
   ]
  },
  {
   "cell_type": "code",
   "execution_count": null,
   "metadata": {},
   "outputs": [],
   "source": [
    "O = (A_ + B_)/2\n",
    "histogram(O**(1/g), bins=2**8, interval=[0, 1])"
   ]
  },
  {
   "cell_type": "markdown",
   "metadata": {},
   "source": [
    "### Color burn\n",
    "---\n",
    "$$ \\large\n",
    "O' = 1 - \\frac{1-B'}{A'}\n",
    "$$"
   ]
  },
  {
   "cell_type": "code",
   "execution_count": null,
   "metadata": {},
   "outputs": [],
   "source": [
    "O = 1 - (1 - B_)/A_\n",
    "\n",
    "# Deal with zero division\n",
    "O[O < 0] = 0\n",
    "O[O > 1] = 1\n",
    "\n",
    "histogram(O**(1/g), bins=2**8, interval=[0, 1])"
   ]
  },
  {
   "cell_type": "markdown",
   "metadata": {},
   "source": [
    "### Difference\n",
    "---\n",
    "$$ \\large\n",
    "O' = |A'-B'|\n",
    "$$"
   ]
  },
  {
   "cell_type": "code",
   "execution_count": null,
   "metadata": {},
   "outputs": [],
   "source": [
    "O = np.absolute(A_ - B_)\n",
    "histogram(O**(1/g), bins=2**8, interval=[0, 1])"
   ]
  },
  {
   "cell_type": "markdown",
   "metadata": {},
   "source": [
    "### Division\n",
    "---\n",
    "$$ \\large\n",
    "O' = \\frac{A'}{B'}\n",
    "$$"
   ]
  },
  {
   "cell_type": "code",
   "execution_count": null,
   "metadata": {},
   "outputs": [],
   "source": [
    "O = A_/B_\n",
    "histogram(O**(1/g), bins=2**8, interval=[0, 1])"
   ]
  },
  {
   "cell_type": "markdown",
   "metadata": {},
   "source": [
    "### Exclusion\n",
    "---\n",
    "$$ \\large\n",
    "O' = A'+B'-2A'B'\n",
    "$$"
   ]
  },
  {
   "cell_type": "code",
   "execution_count": null,
   "metadata": {},
   "outputs": [],
   "source": [
    "O = A_ + B_ - 2*A_*B_\n",
    "histogram(O**(1/g), bins=2**8, interval=[0, 1])"
   ]
  },
  {
   "cell_type": "markdown",
   "metadata": {},
   "source": [
    "### From\n",
    "---\n",
    "$$ \\large\n",
    "O' = B'- A'\n",
    "$$"
   ]
  },
  {
   "cell_type": "code",
   "execution_count": null,
   "metadata": {},
   "outputs": [],
   "source": [
    "O = B_ - A_\n",
    "histogram(O**(1/g), bins=2**8, interval=[0, 1])"
   ]
  },
  {
   "cell_type": "markdown",
   "metadata": {},
   "source": [
    "### Geometric\n",
    "---\n",
    "$$ \\large\n",
    "O' = \\frac{2A'B'}{A'+B'}\n",
    "$$"
   ]
  },
  {
   "cell_type": "code",
   "execution_count": null,
   "metadata": {},
   "outputs": [],
   "source": [
    "O = 2*A_*B_/(A_ + B_)\n",
    "histogram(O**(1/g), bins=2**8, interval=[0, 1])"
   ]
  },
  {
   "cell_type": "markdown",
   "metadata": {},
   "source": [
    "### Hypot\n",
    "---\n",
    "$$ \\large\n",
    "O' = \\sqrt{A'^2+B'^2}\n",
    "$$"
   ]
  },
  {
   "cell_type": "code",
   "execution_count": null,
   "metadata": {},
   "outputs": [],
   "source": [
    "O = (A_**2 + B_**2)**0.5\n",
    "histogram(O**(1/g), bins=2**8, interval=[0, 1])"
   ]
  },
  {
   "cell_type": "markdown",
   "metadata": {},
   "source": [
    "### Max\n",
    "---\n",
    "$$ \\large\n",
    "O' = \\max(A', B')\n",
    "$$"
   ]
  },
  {
   "cell_type": "code",
   "execution_count": null,
   "metadata": {},
   "outputs": [],
   "source": [
    "O = np.maximum(A_, B_)\n",
    "histogram(O**(1/g), bins=2**8, interval=[0, 1])"
   ]
  },
  {
   "cell_type": "markdown",
   "metadata": {},
   "source": [
    "### Min\n",
    "---\n",
    "$$ \\large\n",
    "O' = \\min(A', B')\n",
    "$$"
   ]
  },
  {
   "cell_type": "code",
   "execution_count": null,
   "metadata": {},
   "outputs": [],
   "source": [
    "O = np.minimum(A_, B_)\n",
    "histogram(O**(1/g), bins=2**8, interval=[0, 1])"
   ]
  },
  {
   "cell_type": "markdown",
   "metadata": {},
   "source": [
    "### Minus\n",
    "---\n",
    "$$ \\large\n",
    "O' = A'- B'\n",
    "$$"
   ]
  },
  {
   "cell_type": "code",
   "execution_count": null,
   "metadata": {},
   "outputs": [],
   "source": [
    "O = A_ - B_\n",
    "histogram(O**(1/g), bins=2**8, interval=[0, 1])"
   ]
  },
  {
   "cell_type": "markdown",
   "metadata": {},
   "source": [
    "### Multiply\n",
    "---\n",
    "$$ \\large\n",
    "O' = A'B'\n",
    "$$"
   ]
  },
  {
   "cell_type": "code",
   "execution_count": null,
   "metadata": {},
   "outputs": [],
   "source": [
    "O = A_*B_\n",
    "histogram(O**(1/g), bins=2**8, interval=[0, 1])"
   ]
  },
  {
   "cell_type": "markdown",
   "metadata": {},
   "source": [
    "### Plus\n",
    "---\n",
    "$$ \\large\n",
    "O' = A' + B'\n",
    "$$"
   ]
  },
  {
   "cell_type": "code",
   "execution_count": null,
   "metadata": {},
   "outputs": [],
   "source": [
    "O = A_ + B_\n",
    "histogram(O**(1/g), bins=2**8, interval=[0, 1])"
   ]
  },
  {
   "cell_type": "markdown",
   "metadata": {},
   "source": [
    "### Screen\n",
    "---\n",
    "$$ \\large\n",
    "O' = A' + B' - A'B'\n",
    "$$"
   ]
  },
  {
   "cell_type": "code",
   "execution_count": null,
   "metadata": {},
   "outputs": [],
   "source": [
    "O = A_ + B_ - A_*B_\n",
    "histogram(O**(1/g), bins=2**8, interval=[0, 1])"
   ]
  },
  {
   "cell_type": "markdown",
   "metadata": {},
   "source": [
    "### Soft light\n",
    "---\n",
    "$$ \\large\n",
    "O' = B'(2A' + B'(1 - A'B'))\n",
    "$$"
   ]
  },
  {
   "cell_type": "code",
   "execution_count": null,
   "metadata": {},
   "outputs": [],
   "source": [
    "O = B_*(2*A_ + B_*(1 - A_*B_))\n",
    "histogram(O**(1/g), bins=2**8, interval=[0, 1])"
   ]
  },
  {
   "cell_type": "markdown",
   "metadata": {},
   "source": [
    "### Hard light\n",
    "---\n",
    "$$ \\large\n",
    "O' =\n",
    "\\begin{cases}\n",
    "    \\text{multiply}&, \\text{if } A < \\frac{1}{2} \\\\\n",
    "    \\text{screen}&, \\text{otherwise}\n",
    "\\end{cases}\n",
    "$$"
   ]
  },
  {
   "cell_type": "code",
   "execution_count": null,
   "metadata": {},
   "outputs": [],
   "source": [
    "O = A_ + B_ - A_*B_\n",
    "cond = A_ < 0.5\n",
    "O[cond] = (A_*B_)[cond]\n",
    "histogram(O**(1/g), bins=2**8, interval=[0, 1])"
   ]
  },
  {
   "cell_type": "markdown",
   "metadata": {},
   "source": [
    "### Overlay\n",
    "---\n",
    "$$ \\large\n",
    "O' =\n",
    "\\begin{cases}\n",
    "    \\text{multiply}&, \\text{if } B < \\frac{1}{2} \\\\\n",
    "    \\text{screen}&, \\text{otherwise}\n",
    "\\end{cases}\n",
    "$$"
   ]
  },
  {
   "cell_type": "code",
   "execution_count": null,
   "metadata": {},
   "outputs": [],
   "source": [
    "O = A_ + B_ - A_*B_\n",
    "cond = B_ < 0.5\n",
    "O[cond] = (A_*B_)[cond]\n",
    "histogram(O**(1/g), bins=2**8, interval=[0, 1])"
   ]
  }
 ],
 "metadata": {
  "kernelspec": {
   "display_name": "Python [conda env:imaging]",
   "language": "python",
   "name": "conda-env-imaging-py"
  },
  "language_info": {
   "codemirror_mode": {
    "name": "ipython",
    "version": 3
   },
   "file_extension": ".py",
   "mimetype": "text/x-python",
   "name": "python",
   "nbconvert_exporter": "python",
   "pygments_lexer": "ipython3",
   "version": "3.7.4"
  }
 },
 "nbformat": 4,
 "nbformat_minor": 2
}
