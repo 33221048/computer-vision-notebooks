{
 "cells": [
  {
   "cell_type": "markdown",
   "metadata": {},
   "source": [
    "# Image Stacking\n",
    "---\n",
    "- Author: Diego Inácio\n",
    "- GitHub: [github.com/diegoinacio](https://github.com/diegoinacio)\n",
    "- Notebook: [stacking.ipynb](https://github.com/diegoinacio/computer-vision-notebooks/blob/master/Computer-Vision-Fundamentals/stacking.ipynb)\n",
    "---\n",
    "Implementation of solution to image stacking and statistical blending."
   ]
  },
  {
   "cell_type": "code",
   "execution_count": null,
   "metadata": {},
   "outputs": [],
   "source": [
    "%matplotlib inline\n",
    "import matplotlib.pyplot as plt\n",
    "import matplotlib.gridspec as gridspec\n",
    "import imageio\n",
    "import numpy as np\n",
    "import scipy.stats as stats\n",
    "import glob\n",
    "\n",
    "from _utils import *"
   ]
  },
  {
   "cell_type": "markdown",
   "metadata": {},
   "source": [
    "## Sample\n",
    "---"
   ]
  },
  {
   "cell_type": "code",
   "execution_count": null,
   "metadata": {},
   "outputs": [],
   "source": [
    "sample = imageio.imread('../_data/SEQ01-32bits/sample.0001.exr')"
   ]
  },
  {
   "cell_type": "markdown",
   "metadata": {},
   "source": [
    "### Sample analysis\n",
    "---"
   ]
  },
  {
   "cell_type": "code",
   "execution_count": null,
   "metadata": {},
   "outputs": [],
   "source": [
    "print('sample 0001')\n",
    "summary(sample)"
   ]
  },
  {
   "cell_type": "code",
   "execution_count": null,
   "metadata": {},
   "outputs": [],
   "source": [
    "histogram(sample, interval=[0, 1])"
   ]
  },
  {
   "cell_type": "markdown",
   "metadata": {},
   "source": [
    "### Colorspace transformation\n",
    "---\n",
    "Transform from *linear* to *sRGB* usign gamma correction $\\large \\gamma = 2.2$."
   ]
  },
  {
   "cell_type": "code",
   "execution_count": null,
   "metadata": {},
   "outputs": [],
   "source": [
    "sample_sRGB = sample**(1/2.2)"
   ]
  },
  {
   "cell_type": "code",
   "execution_count": null,
   "metadata": {},
   "outputs": [],
   "source": [
    "histogram(sample_sRGB, interval=[0, 1])"
   ]
  },
  {
   "cell_type": "markdown",
   "metadata": {},
   "source": [
    "## Stacking\n",
    "---"
   ]
  },
  {
   "cell_type": "code",
   "execution_count": null,
   "metadata": {},
   "outputs": [],
   "source": [
    "def stackRead(pathname):\n",
    "    '''\n",
    "    pathname defined by \"glob\" pattern.\n",
    "    i.e.: \"directory/sequence_folder/image_*.jpg\"\n",
    "    '''\n",
    "    # List of image in pathname folder\n",
    "    SEQ_IMG = glob.glob(pathname)\n",
    "    n = len(SEQ_IMG)\n",
    "    # sample for stack definition\n",
    "    sample = imageio.imread(SEQ_IMG[0])\n",
    "    # x and y are the dimensions\n",
    "    # c is the number of channels\n",
    "    y, x, c = sample.shape\n",
    "    # define stack\n",
    "    stack = np.zeros((n, y, x, c), dtype=sample.dtype)\n",
    "    # image stacking\n",
    "    for FILE in SEQ_IMG:\n",
    "        index = SEQ_IMG.index(FILE)\n",
    "        stack[index] = imageio.imread(FILE)\n",
    "    # output\n",
    "    return stack"
   ]
  },
  {
   "cell_type": "code",
   "execution_count": null,
   "metadata": {},
   "outputs": [],
   "source": [
    "stack = stackRead('../_data/SEQ01-32bits/sample.*.exr')"
   ]
  },
  {
   "cell_type": "code",
   "execution_count": null,
   "metadata": {},
   "outputs": [],
   "source": [
    "panel(stack**(1/2.2), (3, 1),\n",
    "      interval=[0, 1],\n",
    "      dims=(1200, 400),\n",
    "      texts=['{:04}'.format(i + 1) for i in range(10)])"
   ]
  },
  {
   "cell_type": "markdown",
   "metadata": {},
   "source": [
    "## Blend operations\n",
    "---"
   ]
  },
  {
   "cell_type": "code",
   "execution_count": null,
   "metadata": {},
   "outputs": [],
   "source": [
    "def blendStack(stack, modo='median', axis=0):\n",
    "    if modo == 'sum':\n",
    "        blend = np.sum(stack, axis)\n",
    "        \n",
    "    if modo == 'arithmetic mean':\n",
    "        blend = np.mean(stack, axis)\n",
    "    \n",
    "    if modo == 'geometric mean':\n",
    "        blend = stats.gmean(stack, axis)\n",
    "    \n",
    "    if modo == 'harmonic mean':\n",
    "        blend = stats.hmean(stack, axis)\n",
    "    \n",
    "    if modo == 'median':\n",
    "        blend = np.median(stack, axis)\n",
    "    \n",
    "    if modo == 'minimum':\n",
    "        blend = np.amin(stack, axis)\n",
    "\n",
    "    if modo == 'maximum':\n",
    "        blend = np.amax(stack, axis)\n",
    "\n",
    "    if modo == 'curtosis':\n",
    "        blend = stats.kurtosis(stack, axis)\n",
    "\n",
    "    if modo == 'variance':\n",
    "        blend = np.var(stack, axis)\n",
    "\n",
    "    if modo == 'standard deviation':\n",
    "        blend = np.std(stack, axis)\n",
    "\n",
    "    return blend.astype(stack.dtype)"
   ]
  },
  {
   "cell_type": "markdown",
   "metadata": {},
   "source": [
    "### Analysis\n",
    "---"
   ]
  },
  {
   "cell_type": "code",
   "execution_count": null,
   "metadata": {},
   "outputs": [],
   "source": [
    "median = blendStack(stack)\n",
    "summary(median)"
   ]
  },
  {
   "cell_type": "code",
   "execution_count": null,
   "metadata": {},
   "outputs": [],
   "source": [
    "histogram(median**(1/2.2), interval=[0, 1])"
   ]
  },
  {
   "cell_type": "code",
   "execution_count": null,
   "metadata": {},
   "outputs": [],
   "source": [
    "sample_blend = np.array([stack[0]**(1/2.2), median**(1/2.2)])\n",
    "panel(sample_blend, (2, 1),\n",
    "      interval=[0, 1],\n",
    "      texts=['sample 0001', 'median'])"
   ]
  },
  {
   "cell_type": "markdown",
   "metadata": {},
   "source": [
    "## Examples\n",
    "---"
   ]
  },
  {
   "cell_type": "markdown",
   "metadata": {},
   "source": [
    "### Sum\n",
    "---"
   ]
  },
  {
   "cell_type": "code",
   "execution_count": null,
   "metadata": {},
   "outputs": [],
   "source": [
    "blend = blendStack(stack**(1/2.2), modo='sum')\n",
    "summary(blend)"
   ]
  },
  {
   "cell_type": "code",
   "execution_count": null,
   "metadata": {},
   "outputs": [],
   "source": [
    "histogram(blend, interval=[5, 38])"
   ]
  },
  {
   "cell_type": "code",
   "execution_count": null,
   "metadata": {},
   "outputs": [],
   "source": [
    "sample_blend = np.array([stack[0]**(1/2.2), (blend - 5)/(38 - 5)])\n",
    "panel(sample_blend, (2, 1),\n",
    "      interval=[0, 1],\n",
    "      texts=['sample 0001', 'sum'])"
   ]
  },
  {
   "cell_type": "markdown",
   "metadata": {},
   "source": [
    "### Means\n",
    "---"
   ]
  },
  {
   "cell_type": "code",
   "execution_count": null,
   "metadata": {},
   "outputs": [],
   "source": [
    "mean_a = blendStack(stack**(1/2.2), modo='arithmetic mean')\n",
    "mean_g = blendStack(stack**(1/2.2), modo='geometric mean')\n",
    "mean_h = blendStack(stack**(1/2.2), modo='harmonic mean')"
   ]
  },
  {
   "cell_type": "code",
   "execution_count": null,
   "metadata": {},
   "outputs": [],
   "source": [
    "sample_blend = np.array([mean_a, mean_g, mean_h])\n",
    "panel(sample_blend, (3, 1),\n",
    "      dims=(1200, 400),\n",
    "      interval=[0, 1],\n",
    "      texts=['arithmetic mean', 'geometric mean', 'harmonic mean'])"
   ]
  },
  {
   "cell_type": "markdown",
   "metadata": {},
   "source": [
    "### Extremes\n",
    "---"
   ]
  },
  {
   "cell_type": "code",
   "execution_count": null,
   "metadata": {},
   "outputs": [],
   "source": [
    "minimum = blendStack(stack**(1/2.2), modo='minimum')\n",
    "maximum = blendStack(stack**(1/2.2), modo='maximum')"
   ]
  },
  {
   "cell_type": "code",
   "execution_count": null,
   "metadata": {},
   "outputs": [],
   "source": [
    "sample_blend = np.array([minimum, maximum])\n",
    "panel(sample_blend, (2, 1),\n",
    "      interval=[0, 1],\n",
    "      texts=['minimum', 'maximum'])"
   ]
  }
 ],
 "metadata": {
  "kernelspec": {
   "display_name": "Python 3",
   "language": "python",
   "name": "python3"
  },
  "language_info": {
   "codemirror_mode": {
    "name": "ipython",
    "version": 3
   },
   "file_extension": ".py",
   "mimetype": "text/x-python",
   "name": "python",
   "nbconvert_exporter": "python",
   "pygments_lexer": "ipython3",
   "version": "3.7.7"
  }
 },
 "nbformat": 4,
 "nbformat_minor": 2
}
