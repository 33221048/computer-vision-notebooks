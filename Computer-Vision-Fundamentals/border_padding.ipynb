{
 "cells": [
  {
   "cell_type": "markdown",
   "metadata": {},
   "source": [
    "# Border Padding\n",
    "---\n",
    "- Author: Diego Inácio\n",
    "- GitHub: [github.com/diegoinacio](https://github.com/diegoinacio)\n",
    "- Notebook: [border_padding.ipynb](https://github.com/diegoinacio/computer-vision-notebooks/blob/master/Computer-Vision-Fundamentals/border_padding.ipynb)\n",
    "---\n",
    "Bi-dimensional image padding for spatial filtering and convolution."
   ]
  },
  {
   "cell_type": "code",
   "execution_count": null,
   "metadata": {},
   "outputs": [],
   "source": [
    "%matplotlib inline\n",
    "import matplotlib.pyplot as plt\n",
    "import numpy as np\n",
    "from numba import stencil\n",
    "import imageio\n",
    "\n",
    "from _utils import *"
   ]
  },
  {
   "cell_type": "code",
   "execution_count": null,
   "metadata": {},
   "outputs": [],
   "source": [
    "import warnings\n",
    "warnings.filterwarnings('ignore')"
   ]
  },
  {
   "cell_type": "markdown",
   "metadata": {},
   "source": [
    "## Input image and Box Filter function\n",
    "---"
   ]
  },
  {
   "cell_type": "code",
   "execution_count": null,
   "metadata": {},
   "outputs": [],
   "source": [
    "img_in = imageio.imread('../_data/fruits.png')"
   ]
  },
  {
   "cell_type": "code",
   "execution_count": null,
   "metadata": {},
   "outputs": [],
   "source": [
    "histogram(img_in, bins=2**8)"
   ]
  },
  {
   "cell_type": "code",
   "execution_count": null,
   "metadata": {},
   "outputs": [],
   "source": [
    "def pbox_filter(M, r):\n",
    "    @stencil(neighborhood=(\n",
    "        (-r, r),\n",
    "        (-r, r)\n",
    "    ))\n",
    "    def box_filter(M):\n",
    "        output = 0\n",
    "        for i in range(-r, r + 1):\n",
    "            for j in range(-r, r + 1):\n",
    "                output += M[i, j]\n",
    "        return output/(2*r + 1)**2\n",
    "    return box_filter(M)\n",
    "\n",
    "def pbox_filterRGB(img, r):\n",
    "    img_out = img.copy()\n",
    "    img_out[..., 0] = pbox_filter(img[..., 0], r)\n",
    "    img_out[..., 1] = pbox_filter(img[..., 1], r)\n",
    "    img_out[..., 2] = pbox_filter(img[..., 2], r)\n",
    "    return img_out"
   ]
  },
  {
   "cell_type": "code",
   "execution_count": null,
   "metadata": {},
   "outputs": [],
   "source": [
    "dict_panel = {\n",
    "    'text_color': 'red',\n",
    "    'text_size': 20,\n",
    "    'texts': ['Input image', 'Filtered image']\n",
    "}\n",
    "img_f0 = pbox_filterRGB(img_in , 35)\n",
    "panel(\n",
    "    np.array([img_in, img_f0]),\n",
    "    gspec=(2, 1), **dict_panel\n",
    ")"
   ]
  },
  {
   "cell_type": "markdown",
   "metadata": {},
   "source": [
    "Without padding, the border of the filtered image will receive 0."
   ]
  },
  {
   "cell_type": "markdown",
   "metadata": {},
   "source": [
    "## Zero Padding\n",
    "---\n",
    "Pads with a constant value (0 in this case), resulting in a artifact with the same value on the border.\n",
    "\n",
    "|A B C D E F|\n",
    "\n",
    "0 0 0 |A B C D E F| 0 0 0"
   ]
  },
  {
   "cell_type": "code",
   "execution_count": null,
   "metadata": {},
   "outputs": [],
   "source": [
    "# Filter radius\n",
    "r = 35"
   ]
  },
  {
   "cell_type": "code",
   "execution_count": null,
   "metadata": {},
   "outputs": [],
   "source": [
    "img_pad1 = np.pad(\n",
    "    img_in,\n",
    "    ((r, r), (r, r), (0, 0)),\n",
    "    'constant',\n",
    "    constant_values=0\n",
    ")"
   ]
  },
  {
   "cell_type": "code",
   "execution_count": null,
   "metadata": {},
   "outputs": [],
   "source": [
    "histogram(img_pad1)"
   ]
  },
  {
   "cell_type": "code",
   "execution_count": null,
   "metadata": {},
   "outputs": [],
   "source": [
    "img_f1 = pbox_filterRGB(img_pad1 , r)[r:-r, r:-r]\n",
    "panel(\n",
    "    np.array([img_in, img_f1]),\n",
    "    gspec=(2, 1), **dict_panel\n",
    ")"
   ]
  },
  {
   "cell_type": "markdown",
   "metadata": {},
   "source": [
    "We can notice a black border on the filtered image."
   ]
  },
  {
   "cell_type": "markdown",
   "metadata": {},
   "source": [
    "## Wrap Padding\n",
    "---\n",
    "Pads with a modular repetition of each axis, resulting in some artifacts from the opposite edges.\n",
    "\n",
    "|A B C D E F|\n",
    "\n",
    "D E F |A B C D E F| A B C"
   ]
  },
  {
   "cell_type": "code",
   "execution_count": null,
   "metadata": {},
   "outputs": [],
   "source": [
    "img_pad2 = np.pad(\n",
    "    img_in,\n",
    "    ((r, r), (r, r), (0, 0)),\n",
    "    'wrap'\n",
    ")"
   ]
  },
  {
   "cell_type": "code",
   "execution_count": null,
   "metadata": {},
   "outputs": [],
   "source": [
    "histogram(img_pad2)"
   ]
  },
  {
   "cell_type": "code",
   "execution_count": null,
   "metadata": {},
   "outputs": [],
   "source": [
    "img_f2 = pbox_filterRGB(img_pad2 , r)[r:-r, r:-r]\n",
    "panel(\n",
    "    np.array([img_in, img_f2]),\n",
    "    gspec=(2, 1), **dict_panel\n",
    ")"
   ]
  },
  {
   "cell_type": "markdown",
   "metadata": {},
   "source": [
    "We can notice a red artifact on the top of the filtered image which was spread from the bottom part. "
   ]
  },
  {
   "cell_type": "markdown",
   "metadata": {},
   "source": [
    "## Reflect Padding\n",
    "---\n",
    "Pads with the reflection of each axis.\n",
    "\n",
    "|A B C D E F|\n",
    "\n",
    "D C B |A B C D E F| E D C"
   ]
  },
  {
   "cell_type": "code",
   "execution_count": null,
   "metadata": {},
   "outputs": [],
   "source": [
    "img_pad3 = np.pad(\n",
    "    img_in,\n",
    "    ((r, r), (r, r), (0, 0)),\n",
    "    'reflect'\n",
    ")"
   ]
  },
  {
   "cell_type": "code",
   "execution_count": null,
   "metadata": {},
   "outputs": [],
   "source": [
    "histogram(img_pad3)"
   ]
  },
  {
   "cell_type": "code",
   "execution_count": null,
   "metadata": {},
   "outputs": [],
   "source": [
    "img_f3 = pbox_filterRGB(img_pad3 , r)[r:-r, r:-r]\n",
    "panel(\n",
    "    np.array([img_in, img_f3]),\n",
    "    gspec=(2, 1), **dict_panel\n",
    ")"
   ]
  },
  {
   "cell_type": "markdown",
   "metadata": {},
   "source": [
    "## Edge Padding\n",
    "---\n",
    "Pads with the edge pixel of each axis.\n",
    "\n",
    "|A B C D E F|\n",
    "\n",
    "A A A |A B C D E F| F F F"
   ]
  },
  {
   "cell_type": "code",
   "execution_count": null,
   "metadata": {},
   "outputs": [],
   "source": [
    "img_pad4 = np.pad(\n",
    "    img_in,\n",
    "    ((r, r), (r, r), (0, 0)),\n",
    "    'edge'\n",
    ")"
   ]
  },
  {
   "cell_type": "code",
   "execution_count": null,
   "metadata": {},
   "outputs": [],
   "source": [
    "histogram(img_pad4)"
   ]
  },
  {
   "cell_type": "code",
   "execution_count": null,
   "metadata": {},
   "outputs": [],
   "source": [
    "img_f4 = pbox_filterRGB(img_pad4 , r)[r:-r, r:-r]\n",
    "panel(\n",
    "    np.array([img_in, img_f4]),\n",
    "    gspec=(2, 1), **dict_panel\n",
    ")"
   ]
  }
 ],
 "metadata": {
  "kernelspec": {
   "display_name": "Python [conda env:imaging]",
   "language": "python",
   "name": "conda-env-imaging-py"
  },
  "language_info": {
   "codemirror_mode": {
    "name": "ipython",
    "version": 3
   },
   "file_extension": ".py",
   "mimetype": "text/x-python",
   "name": "python",
   "nbconvert_exporter": "python",
   "pygments_lexer": "ipython3",
   "version": "3.7.4"
  }
 },
 "nbformat": 4,
 "nbformat_minor": 2
}
