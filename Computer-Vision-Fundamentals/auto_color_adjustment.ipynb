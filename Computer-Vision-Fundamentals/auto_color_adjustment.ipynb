{
 "cells": [
  {
   "cell_type": "markdown",
   "metadata": {},
   "source": [
    "# Auto Color Adjustment\n",
    "---\n",
    "- Author: Diego Inácio\n",
    "- GitHub: [github.com/diegoinacio](https://github.com/diegoinacio)\n",
    "- Notebook: [auto_color_adjustment.ipynb](https://github.com/diegoinacio/computer-vision-notebooks/blob/master/Computer-Vision-Fundamentals/auto_color_adjustment.ipynb)\n",
    "---\n",
    "Methods which provide color adjustment without input parameters.\n",
    "\n",
    "With these techniques, all result is given by the auto analysis from the input image."
   ]
  },
  {
   "cell_type": "code",
   "execution_count": null,
   "metadata": {},
   "outputs": [],
   "source": [
    "%matplotlib inline\n",
    "import matplotlib as mpl\n",
    "import matplotlib.pyplot as plt\n",
    "import numpy as np\n",
    "import imageio\n",
    "\n",
    "from _utils import *"
   ]
  },
  {
   "cell_type": "code",
   "execution_count": null,
   "metadata": {},
   "outputs": [],
   "source": [
    "import warnings\n",
    "warnings.filterwarnings('ignore')"
   ]
  },
  {
   "cell_type": "markdown",
   "metadata": {},
   "source": [
    "## Input RGB image\n",
    "---"
   ]
  },
  {
   "cell_type": "code",
   "execution_count": null,
   "metadata": {},
   "outputs": [],
   "source": [
    "img_in = imageio.imread('../_data/aerial01.png')/255\\"
   ]
  },
  {
   "cell_type": "code",
   "execution_count": null,
   "metadata": {},
   "outputs": [],
   "source": [
    "histogram(img_in, bins=2**8, interval=[0, 1])"
   ]
  },
  {
   "cell_type": "code",
   "execution_count": null,
   "metadata": {},
   "outputs": [],
   "source": [
    "summary(img_in)"
   ]
  },
  {
   "cell_type": "markdown",
   "metadata": {},
   "source": [
    "## Equalize (Automatic contrast enhancement)\n",
    "---\n",
    "Automatic contrast enhancement using *histogram equalization* for each channel."
   ]
  },
  {
   "cell_type": "code",
   "execution_count": null,
   "metadata": {},
   "outputs": [],
   "source": [
    "img_eq = img_in.copy()\n",
    "# Split channels\n",
    "R = img_eq[:,:,0]\n",
    "G = img_eq[:,:,1]\n",
    "B = img_eq[:,:,2]\n",
    "# Get dimensions\n",
    "N1, N2, _ = img_eq.shape\n",
    "# Histogram equalization\n",
    "Rs = np.sort(R.ravel())\n",
    "Gs = np.sort(G.ravel())\n",
    "Bs = np.sort(B.ravel())\n",
    "R[:,:] = Rs.searchsorted(R)\n",
    "G[:,:] = Gs.searchsorted(G)\n",
    "B[:,:] = Bs.searchsorted(B)\n",
    "# Feature normalization\n",
    "img_eq = img_eq/(N1*N2 - 1)"
   ]
  },
  {
   "cell_type": "code",
   "execution_count": null,
   "metadata": {},
   "outputs": [],
   "source": [
    "histogram(img_eq, bins=2**8, interval=[0, 1])"
   ]
  },
  {
   "cell_type": "code",
   "execution_count": null,
   "metadata": {},
   "outputs": [],
   "source": [
    "summary(img_eq)"
   ]
  },
  {
   "cell_type": "markdown",
   "metadata": {},
   "source": [
    "## RGB component stretch\n",
    "---\n",
    "Feature scaling, using *min-max normalization* to stretch each channel to 0.0-1.0 range."
   ]
  },
  {
   "cell_type": "code",
   "execution_count": null,
   "metadata": {},
   "outputs": [],
   "source": [
    "img_rgb = img_in.copy()\n",
    "# Get minimum values\n",
    "RGB_min = np.apply_over_axes(\n",
    "    np.amin, img_rgb, [0, 1]\n",
    ").ravel()\n",
    "# Get maximum values\n",
    "RGB_max = np.apply_over_axes(\n",
    "    np.amax, img_rgb, [0, 1]\n",
    ").ravel()\n",
    "# min-max normalization\n",
    "img_rgb = (img_rgb - RGB_min)/(RGB_max - RGB_min)"
   ]
  },
  {
   "cell_type": "code",
   "execution_count": null,
   "metadata": {},
   "outputs": [],
   "source": [
    "histogram(img_rgb, bins=2**8, interval=[0, 1])"
   ]
  },
  {
   "cell_type": "code",
   "execution_count": null,
   "metadata": {},
   "outputs": [],
   "source": [
    "summary(img_rgb)"
   ]
  },
  {
   "cell_type": "markdown",
   "metadata": {},
   "source": [
    "## HSV component stretch\n",
    "---\n",
    "Stretch components from HSV space to 0.0-1.0 range, only preserving the *hue* channel."
   ]
  },
  {
   "cell_type": "code",
   "execution_count": null,
   "metadata": {},
   "outputs": [],
   "source": [
    "# Convert from RGB to HSV\n",
    "HSV_ = mpl.colors.rgb_to_hsv(img_in)\n",
    "# Get minimum values from HSV\n",
    "HSV_min = np.apply_over_axes(\n",
    "    np.amin, HSV_, [0, 1]\n",
    ").ravel()\n",
    "# Get maximum values from HSV\n",
    "HSV_max = np.apply_over_axes(\n",
    "    np.amax, HSV_, [0, 1]\n",
    ").ravel()\n",
    "# Find delta = max - min\n",
    "HSV_delta = HSV_max - HSV_min\n",
    "# Preserve hue component\n",
    "HSV_min[[0]] = 0\n",
    "HSV_delta[0] = 1\n",
    "# Stretch the components, preserving hue\n",
    "HSV_ = (HSV_ - HSV_min)/HSV_delta\n",
    "# Convert from HSV to RGB\n",
    "img_hsv = mpl.colors.hsv_to_rgb(HSV_)"
   ]
  },
  {
   "cell_type": "code",
   "execution_count": null,
   "metadata": {},
   "outputs": [],
   "source": [
    "histogram(img_hsv, bins=2**8, interval=[0, 1])"
   ]
  },
  {
   "cell_type": "code",
   "execution_count": null,
   "metadata": {},
   "outputs": [],
   "source": [
    "summary(img_hsv)"
   ]
  },
  {
   "cell_type": "markdown",
   "metadata": {},
   "source": [
    "## White balance\n",
    "---\n",
    "White balance based on the concept of *gray world*, where $\\mu_R=\\mu_G=\\mu_B$."
   ]
  },
  {
   "cell_type": "code",
   "execution_count": null,
   "metadata": {},
   "outputs": [],
   "source": [
    "# Find the mean values\n",
    "R_mu, G_mu, B_mu = np.apply_over_axes(\n",
    "    np.mean, img_in, [0, 1]\n",
    ").ravel()\n",
    "# Define the correction values based on green channel\n",
    "corrR = G_mu - R_mu\n",
    "corrB = G_mu - B_mu\n",
    "# Offset the components to equalize all mean values\n",
    "offset = img_in + [corrR, 0 ,corrB]\n",
    "# Move the mean value to zero\n",
    "cent = offset - G_mu\n",
    "# Find the maximum values after offset\n",
    "cent_max = np.apply_over_axes(\n",
    "    np.amax, cent, [0, 1]\n",
    ").ravel()\n",
    "# Stretch and normalize values gratter than mean\n",
    "img_wb = (1 - G_mu)*cent/cent_max + G_mu\n",
    "# Stretch and normalize values lower than mean\n",
    "cent = offset + 1 - G_mu\n",
    "cent_min = np.apply_over_axes(\n",
    "    np.amin, cent, [0, 1]\n",
    ").ravel()\n",
    "norm = 1 - (G_mu*(1 - cent)/(1 - cent_min) + 1 - G_mu)\n",
    "mu_down = norm < G_mu\n",
    "img_wb[mu_down] = norm[mu_down]"
   ]
  },
  {
   "cell_type": "code",
   "execution_count": null,
   "metadata": {},
   "outputs": [],
   "source": [
    "histogram(img_wb, bins=2**8, interval=[0, 1])"
   ]
  },
  {
   "cell_type": "code",
   "execution_count": null,
   "metadata": {},
   "outputs": [],
   "source": [
    "summary(img_wb)"
   ]
  },
  {
   "cell_type": "markdown",
   "metadata": {},
   "source": [
    "## Comparison\n",
    "---"
   ]
  },
  {
   "cell_type": "code",
   "execution_count": null,
   "metadata": {},
   "outputs": [],
   "source": [
    "print('Input')\n",
    "histogram(img_in, bins=2**8, interval=[0, 1])\n",
    "print('Equalize')\n",
    "histogram(img_eq, bins=2**8, interval=[0, 1])\n",
    "print('RGB component stretch')\n",
    "histogram(img_rgb, bins=2**8, interval=[0, 1])\n",
    "print('HSV component stretch')\n",
    "histogram(img_hsv, bins=2**8, interval=[0, 1])\n",
    "print('White balance')\n",
    "histogram(img_wb, bins=2**8, interval=[0, 1])"
   ]
  }
 ],
 "metadata": {
  "kernelspec": {
   "display_name": "Python [conda env:imaging]",
   "language": "python",
   "name": "conda-env-imaging-py"
  },
  "language_info": {
   "codemirror_mode": {
    "name": "ipython",
    "version": 3
   },
   "file_extension": ".py",
   "mimetype": "text/x-python",
   "name": "python",
   "nbconvert_exporter": "python",
   "pygments_lexer": "ipython3",
   "version": "3.7.4"
  }
 },
 "nbformat": 4,
 "nbformat_minor": 2
}
