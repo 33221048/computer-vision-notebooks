{
 "cells": [
  {
   "cell_type": "markdown",
   "metadata": {},
   "source": [
    "# Radon Transform\n",
    "---\n",
    "- Author: Diego Inácio\n",
    "- GitHub: [github.com/diegoinacio](https://github.com/diegoinacio)\n",
    "- Notebook: [radon_transform.ipynb](https://github.com/diegoinacio/computer-vision-notebooks/blob/master/Computer-Vision-Fundamentals/radon_transform.ipynb)\n",
    "---\n",
    "Overview and implementation of discrete Radon transform."
   ]
  },
  {
   "cell_type": "code",
   "execution_count": null,
   "metadata": {},
   "outputs": [],
   "source": [
    "%matplotlib inline\n",
    "import matplotlib.pyplot as plt\n",
    "import matplotlib.gridspec as gridspec\n",
    "from scipy.ndimage.interpolation import rotate\n",
    "import numpy as np\n",
    "import imageio\n",
    "\n",
    "from _utils import *"
   ]
  },
  {
   "cell_type": "code",
   "execution_count": null,
   "metadata": {},
   "outputs": [],
   "source": [
    "image = imageio.imread('../_data/cameraman.png')/255"
   ]
  },
  {
   "cell_type": "code",
   "execution_count": null,
   "metadata": {},
   "outputs": [],
   "source": [
    "histogram(image, interval=[0, 1])"
   ]
  },
  {
   "cell_type": "code",
   "execution_count": null,
   "metadata": {},
   "outputs": [],
   "source": [
    "M, N = image.shape\n",
    "M = complex(0, M)\n",
    "N = complex(0, N)\n",
    "s, t = np.mgrid[0:1:M, 0:1:N]\n",
    "radial = ((0.5 - s)**2 + (0.5 - t)**2)**0.5 < 0.455\n",
    "image_f = image*radial"
   ]
  },
  {
   "cell_type": "code",
   "execution_count": null,
   "metadata": {},
   "outputs": [],
   "source": [
    "histogram(image_f, interval=[0, 1])"
   ]
  },
  {
   "cell_type": "code",
   "execution_count": null,
   "metadata": {},
   "outputs": [],
   "source": [
    "def sinogram(matrix, n_theta=18, theta_min=0, theta_max=360):\n",
    "    '''\n",
    "    n_theta => Number of axis inclinations\n",
    "    theta_min => Minimum angle\n",
    "    theta_max => Maximum angle\n",
    "    '''\n",
    "    N1, N2 = matrix.shape\n",
    "    S = np.zeros((n_theta, max(N1, N2)))\n",
    "    theta_max_ = theta_max*(1 - 1/n_theta)\n",
    "    thetas = np.linspace(theta_max_, theta_min, n_theta)\n",
    "    for e, theta in enumerate(thetas):\n",
    "        rot = rotate(matrix, theta, reshape=False)\n",
    "        S[e] = np.sum(rot, axis=0)\n",
    "    return S.T"
   ]
  },
  {
   "cell_type": "code",
   "execution_count": null,
   "metadata": {},
   "outputs": [],
   "source": [
    "%%time\n",
    "S = sinogram(image_f, 1024)\n",
    "S = (S - S.min())/(S.max() - S.min())"
   ]
  },
  {
   "cell_type": "code",
   "execution_count": null,
   "metadata": {},
   "outputs": [],
   "source": [
    "plt.figure(figsize=(1024/72, 512/72))\n",
    "plt.imshow(S, cmap='gray')\n",
    "plt.show()"
   ]
  },
  {
   "cell_type": "code",
   "execution_count": null,
   "metadata": {},
   "outputs": [],
   "source": [
    "def sinogram_i(S, FBP=True, filter_='ramlak', theta_min=0, theta_max=360):\n",
    "    '''\n",
    "    FBP => Filtered back projection\n",
    "    filter_ => Kind of filter for frequency domain\n",
    "    theta_min => Minimum angle\n",
    "    theta_max => Maximum angle\n",
    "    '''\n",
    "    N, n_theta = S.shape\n",
    "    Si = np.zeros((N, N), dtype=S.dtype)\n",
    "    theta_min_ = theta_min*(1 - 1/n_theta)\n",
    "    thetas = np.linspace(theta_min_, theta_max, n_theta)\n",
    "    w = np.linspace(-1, 1, N)\n",
    "    H = {'ramlak': abs(w)}\n",
    "    for e, theta in enumerate(thetas):\n",
    "        st = S[:, e]\n",
    "        if FBP:\n",
    "            ST = np.fft.fft(st)\n",
    "            ST = np.fft.fftshift(ST)\n",
    "            ST = np.fft.fftshift(ST*H[filter_])\n",
    "            st = np.fft.ifft(ST).real\n",
    "        st = np.tile(st, (N, 1))\n",
    "        Si += rotate(st, theta, reshape=False)\n",
    "    return Si"
   ]
  },
  {
   "cell_type": "code",
   "execution_count": null,
   "metadata": {},
   "outputs": [],
   "source": [
    "%%time\n",
    "SiA = sinogram_i(S, FBP=False)\n",
    "SiA = (SiA - SiA.min())/(SiA.max() - SiA.min())\n",
    "SiB = sinogram_i(S, FBP=True)\n",
    "SiB = (SiB - SiB.min())/(SiB.max() - SiB.min())"
   ]
  },
  {
   "cell_type": "code",
   "execution_count": null,
   "metadata": {},
   "outputs": [],
   "source": [
    "Si_l = np.array([SiA, SiB])\n",
    "panel(Si_l, (2, 1),\n",
    "      texts=['Non-filtered back projection',\n",
    "             'Filtered back projection'])"
   ]
  },
  {
   "cell_type": "code",
   "execution_count": null,
   "metadata": {},
   "outputs": [],
   "source": [
    "histogram(SiA, interval=[0, 1])"
   ]
  },
  {
   "cell_type": "code",
   "execution_count": null,
   "metadata": {},
   "outputs": [],
   "source": [
    "histogram(SiB, interval=[0, 1])"
   ]
  },
  {
   "cell_type": "markdown",
   "metadata": {},
   "source": [
    "# Iterative reconstruction visualization\n",
    "---\n",
    "Demonstration of the iterative reconstruction of a multi-channel image from its radon tranformation sinogram."
   ]
  },
  {
   "cell_type": "code",
   "execution_count": null,
   "metadata": {},
   "outputs": [],
   "source": [
    "from IPython.display import HTML\n",
    "\n",
    "HTML(\n",
    "    '<iframe width=\"960\" height=\"540\" src=\"https://www.youtube.com/embed/jHQzweHHDEE\" frameborder=\"0\" allowfullscreen></iframe>'\n",
    ")"
   ]
  }
 ],
 "metadata": {
  "kernelspec": {
   "display_name": "Python 3",
   "language": "python",
   "name": "python3"
  },
  "language_info": {
   "codemirror_mode": {
    "name": "ipython",
    "version": 3
   },
   "file_extension": ".py",
   "mimetype": "text/x-python",
   "name": "python",
   "nbconvert_exporter": "python",
   "pygments_lexer": "ipython3",
   "version": "3.7.7"
  }
 },
 "nbformat": 4,
 "nbformat_minor": 2
}
