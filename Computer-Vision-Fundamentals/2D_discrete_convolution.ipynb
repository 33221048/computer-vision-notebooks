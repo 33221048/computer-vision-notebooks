{
 "cells": [
  {
   "cell_type": "markdown",
   "metadata": {},
   "source": [
    "# Bi-dimensional Discrete Convolution\n",
    "---\n",
    "- Author: Diego Inácio\n",
    "- GitHub: [github.com/diegoinacio](https://github.com/diegoinacio)\n",
    "- Notebook: [2D_discrete_convolution.ipynb](https://github.com/diegoinacio/computer-vision-notebooks/blob/master/Computer-Vision-Fundamentals/2D_discrete_convolution.ipynb)\n",
    "---\n",
    "Naive implementation of bi-dimensional discrete convolution."
   ]
  },
  {
   "cell_type": "code",
   "execution_count": null,
   "metadata": {},
   "outputs": [],
   "source": [
    "%matplotlib inline\n",
    "import matplotlib as mpl\n",
    "import matplotlib.pyplot as plt\n",
    "import numpy as np\n",
    "\n",
    "import imageio\n",
    "\n",
    "from numba import jit, prange\n",
    "\n",
    "from _utils import *"
   ]
  },
  {
   "cell_type": "code",
   "execution_count": null,
   "metadata": {},
   "outputs": [],
   "source": [
    "import warnings\n",
    "warnings.filterwarnings('ignore')"
   ]
  },
  {
   "cell_type": "code",
   "execution_count": null,
   "metadata": {},
   "outputs": [],
   "source": [
    "M, N = 7, 7\n",
    "x = np.zeros((M, N))\n",
    "x[M//2, N//2] = 1\n",
    "h = np.arange(9).reshape(3, 3) + 1"
   ]
  },
  {
   "cell_type": "markdown",
   "metadata": {},
   "source": [
    "$$ \\large \\displaystyle\n",
    "(h*x)[n_1, n_2]=\\sum_{k_1=-\\infty}^{\\infty}\\sum_{k_2=-\\infty}^{\\infty}h(k_1, k_2)x(n_1-k_1,n_2-k_2)\n",
    "$$"
   ]
  },
  {
   "cell_type": "code",
   "execution_count": null,
   "metadata": {},
   "outputs": [],
   "source": [
    "@jit(nopython=True, parallel=True)\n",
    "def convolve(x, h):\n",
    "    xh, xw = x.shape\n",
    "    hh, hw = h.shape\n",
    "    # Kernel radius\n",
    "    rh, rw = np.array(h.shape)//2\n",
    "    # Init output\n",
    "    output = np.zeros(x.shape)\n",
    "    for n1 in prange(rh, xh-rh):\n",
    "        for n2 in prange(rw, xw-rw):\n",
    "            value = 0\n",
    "            for k1 in prange(hh):\n",
    "                for k2 in prange(hw):\n",
    "                    value += h[k1, k2]*x[n1 + k1 - rh, n2 + k2 - rw]\n",
    "            output[n1, n2] = value\n",
    "    return output\n",
    "\n",
    "print(x, end=' input\\n\\n')\n",
    "print(h, end=' kernel\\n\\n')\n",
    "print(convolve(x, h), end=' convolution\\n\\n')"
   ]
  },
  {
   "cell_type": "markdown",
   "metadata": {},
   "source": [
    "## Spatial filtering\n",
    "---\n",
    "Spatial filtering by the application of *discrete convolution* on images."
   ]
  },
  {
   "cell_type": "code",
   "execution_count": null,
   "metadata": {},
   "outputs": [],
   "source": [
    "img_in = imageio.imread('../_data/pimentos.png')/255\n",
    "img_in = np.median(img_in, axis=2)"
   ]
  },
  {
   "cell_type": "code",
   "execution_count": null,
   "metadata": {},
   "outputs": [],
   "source": [
    "histogram(img_in, interval=[0, 1])"
   ]
  },
  {
   "cell_type": "code",
   "execution_count": null,
   "metadata": {},
   "outputs": [],
   "source": [
    "# Kernel definition\n",
    "size = 64j\n",
    "u, v = np.mgrid[-1:1:size, -1:1:size]\n",
    "radial = (64*u**2 + v**2)**0.5\n",
    "kernel = np.exp(-2*radial**2)\n",
    "kernel /= kernel.sum()\n",
    "histogram(kernel, interval=[0, kernel.max()])"
   ]
  },
  {
   "cell_type": "code",
   "execution_count": null,
   "metadata": {},
   "outputs": [],
   "source": [
    "%%time\n",
    "r = int(size.imag)\n",
    "# Padding zero\n",
    "img_pad = np.pad(\n",
    "    img_in,\n",
    "    ((r, r), (r, r)),\n",
    "    'edge'\n",
    ")\n",
    "# Convolution\n",
    "conv2d = convolve(img_pad, kernel)[r:-r, r:-r]\n",
    "histogram(conv2d,interval=[0, 1])"
   ]
  }
 ],
 "metadata": {
  "kernelspec": {
   "display_name": "Python [conda env:imaging]",
   "language": "python",
   "name": "conda-env-imaging-py"
  },
  "language_info": {
   "codemirror_mode": {
    "name": "ipython",
    "version": 3
   },
   "file_extension": ".py",
   "mimetype": "text/x-python",
   "name": "python",
   "nbconvert_exporter": "python",
   "pygments_lexer": "ipython3",
   "version": "3.7.4"
  }
 },
 "nbformat": 4,
 "nbformat_minor": 2
}
