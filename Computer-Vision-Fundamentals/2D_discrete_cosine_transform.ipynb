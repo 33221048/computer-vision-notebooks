{
 "cells": [
  {
   "cell_type": "markdown",
   "metadata": {},
   "source": [
    "# Bi-dimensional Discrete Cosine Transform\n",
    "---\n",
    "- Author: Diego Inácio\n",
    "- GitHub: [github.com/diegoinacio](https://github.com/diegoinacio)\n",
    "- Notebook: [2D_discrete_cosine_transform.ipynb](https://github.com/diegoinacio/computer-vision-notebooks/blob/master/Computer-Vision-Fundamentals/2D_discrete_cosine_transform.ipynb)\n",
    "---\n",
    "Overview and implementation of bi-dimensional discrete space cosine transform.\n",
    "\n",
    "$O(n²)$ >> *The running time is going to be quite long*"
   ]
  },
  {
   "cell_type": "code",
   "execution_count": null,
   "metadata": {},
   "outputs": [],
   "source": [
    "%matplotlib inline\n",
    "import matplotlib.pyplot as plt\n",
    "import numpy as np\n",
    "import imageio\n",
    "\n",
    "from _utils import *"
   ]
  },
  {
   "cell_type": "code",
   "execution_count": null,
   "metadata": {},
   "outputs": [],
   "source": [
    "image = imageio.imread('../_data/cameraman.png')\n",
    "s = 4; image = image[::s, ::s]/255\n",
    "N1, N2 = image.shape"
   ]
  },
  {
   "cell_type": "code",
   "execution_count": null,
   "metadata": {},
   "outputs": [],
   "source": [
    "histogram(image, interval=[0, 1])"
   ]
  },
  {
   "cell_type": "markdown",
   "metadata": {},
   "source": [
    "## 1. Discrete space Cosine transform\n",
    "---\n",
    "Transforming from spatial to frequency domain using *Discrete Cosine Transform*, defined by:\n",
    "\n",
    "$$ \\large\n",
    "X(\\omega_1,\\omega_2)=\\lambda(\\omega_1)\\lambda(\\omega_2)\\sum_{n_1=0}^{N_1-1}\\sum_{n_2=0}^{N_2-1}x(n_1,n_2) \\cos\\left(\\pi\\omega_1\\frac{2 n_1+1}{2 N1}\\right) \\cos\\left(\\pi\\omega_2\\frac{2 n_2+1}{2 N2}\\right)\n",
    "$$\n",
    "\n",
    "where:\n",
    "\n",
    "$$ \\large\n",
    "\\lambda(\\omega)=\n",
    "\\begin{cases}\n",
    "\\sqrt{\\frac{1}{N}}, \\text{ if } \\omega=0\\\\\n",
    "\\sqrt{\\frac{2}{N}}, \\text{ otherwise}\n",
    "\\end{cases}\n",
    "$$"
   ]
  },
  {
   "cell_type": "code",
   "execution_count": null,
   "metadata": {},
   "outputs": [],
   "source": [
    "def DCT2D(x):\n",
    "    '''\n",
    "    Discrete space cosine transform\n",
    "    x: Input matrix\n",
    "    '''\n",
    "    N1, N2 = x.shape\n",
    "    X = np.zeros((N1, N2))\n",
    "    n1, n2 = np.mgrid[0:N1, 0:N2]\n",
    "    for w1 in range(N1):\n",
    "        for w2 in range(N2):\n",
    "            l1 = (2/N1)**0.5 if w1 else (1/N1)**0.5\n",
    "            l2 = (2/N2)**0.5 if w2 else (1/N2)**0.5\n",
    "            cos1 = np.cos(np.pi*w1*(2*n1 + 1)/(2*N1))\n",
    "            cos2 = np.cos(np.pi*w2*(2*n2 + 1)/(2*N2))\n",
    "            X[w1, w2] = l1*l2*np.sum(x*cos1*cos2)\n",
    "    return X"
   ]
  },
  {
   "cell_type": "code",
   "execution_count": null,
   "metadata": {},
   "outputs": [],
   "source": [
    "%%time\n",
    "IMAGE = DCT2D(image)"
   ]
  },
  {
   "cell_type": "code",
   "execution_count": null,
   "metadata": {},
   "outputs": [],
   "source": [
    "xX = np.array([image, np.log10(1 + abs(IMAGE))])\n",
    "panel(xX, [2, 1], text_color='green',\n",
    "      texts=['Input image', 'DCT Spectrum'])"
   ]
  },
  {
   "cell_type": "markdown",
   "metadata": {},
   "source": [
    "## 2. Inverse discrete space Cosine transform\n",
    "---\n",
    "Transforming from frequency to spatial domain using *Inverse Discrete Cosine Transform*, defined by:\n",
    "\n",
    "$$ \\large\n",
    "X(n_1,n_2)=\\sum_{k_1=0}^{N_1-1}\\sum_{k_2=0}^{N_2-1}\\lambda(k_1)\\lambda(k_2)x(k_1,k_2) \\cos\\left(\\pi k_1\\frac{2 n_1+1}{2 N1}\\right) \\cos\\left(\\pi k_2\\frac{2 n_2+1}{2 N2}\\right)\n",
    "$$"
   ]
  },
  {
   "cell_type": "code",
   "execution_count": null,
   "metadata": {},
   "outputs": [],
   "source": [
    "def iDCT2D(X, shift=True):\n",
    "    '''\n",
    "    Inverse discrete space cosine transform\n",
    "    X: Input spectrum matrix\n",
    "    '''\n",
    "    N1, N2 = X.shape\n",
    "    x = np.zeros((N1, N2))\n",
    "    k1, k2 = np.mgrid[0:N1, 0:N2]\n",
    "    l1 = np.ones((N1, N2))*(2/N1)**0.5\n",
    "    l2 = np.ones((N1, N2))*(2/N2)**0.5\n",
    "    l1[0] = (1/N1)**0.5; l2[:,0] = (1/N2)**0.5\n",
    "    for n1 in range(N1):\n",
    "        for n2 in range(N2):\n",
    "            cos1 = np.cos(np.pi*k1*(2*n1 + 1)/(2*N1))\n",
    "            cos2 = np.cos(np.pi*k2*(2*n2 + 1)/(2*N2))\n",
    "            x[n1, n2] = np.sum(l1*l2*X*cos1*cos2)\n",
    "    return x"
   ]
  },
  {
   "cell_type": "code",
   "execution_count": null,
   "metadata": {},
   "outputs": [],
   "source": [
    "%%time\n",
    "image_ = iDCT2D(IMAGE)"
   ]
  },
  {
   "cell_type": "code",
   "execution_count": null,
   "metadata": {},
   "outputs": [],
   "source": [
    "Xx_ = np.array([np.log10(1 + abs(IMAGE)), image_])\n",
    "panel(Xx_, [2, 1], text_color='green',\n",
    "      texts=['DCT Spectrum', 'Reconstructed image'])"
   ]
  },
  {
   "cell_type": "markdown",
   "metadata": {},
   "source": [
    "## 3. DCT Spectrum Filtering\n",
    "---\n",
    "In spite of *DCT* be mostly used for image compression, let's take a look at how it seems when we apply some filter on the *DCT spectrum*.\n",
    "\n",
    "$$ \\large\n",
    "F(u,v)=H(u,v)X(u,v)\n",
    "$$\n",
    "\n",
    "e.g.: Given the spatial-frequency filter $H$ as:\n",
    "\n",
    "$$ \\large\n",
    "H(r,\\theta)=e^{-\\beta r^2}\\left[\\frac{cos(\\gamma\\theta)}{2}+\\frac{1}{2}\\right]\n",
    "$$"
   ]
  },
  {
   "cell_type": "code",
   "execution_count": null,
   "metadata": {},
   "outputs": [],
   "source": [
    "N1, N2 = image.shape\n",
    "u, v = np.mgrid[0:N1, 0:N2]/max(N1, N2)\n",
    "\n",
    "r = (u**2 + v**2)**0.5; theta = np.arctan2(v, u)\n",
    "H = np.exp(-3*r**2)*(np.cos(4*2*theta)/2 + 1/2)"
   ]
  },
  {
   "cell_type": "code",
   "execution_count": null,
   "metadata": {},
   "outputs": [],
   "source": [
    "%%time\n",
    "image__ = iDCT2D(H*IMAGE)"
   ]
  },
  {
   "cell_type": "code",
   "execution_count": null,
   "metadata": {},
   "outputs": [],
   "source": [
    "Hx__ = np.array([H, abs(image__*0.5 + 0.5)])\n",
    "panel(Hx__, (2, 1), text_color='green',\n",
    "      texts=['Filter', 'Filtered image'])"
   ]
  }
 ],
 "metadata": {
  "kernelspec": {
   "display_name": "Python 3",
   "language": "python",
   "name": "python3"
  },
  "language_info": {
   "codemirror_mode": {
    "name": "ipython",
    "version": 3
   },
   "file_extension": ".py",
   "mimetype": "text/x-python",
   "name": "python",
   "nbconvert_exporter": "python",
   "pygments_lexer": "ipython3",
   "version": "3.7.7"
  }
 },
 "nbformat": 4,
 "nbformat_minor": 2
}
