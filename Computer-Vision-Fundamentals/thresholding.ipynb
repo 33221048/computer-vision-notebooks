{
 "cells": [
  {
   "cell_type": "markdown",
   "metadata": {},
   "source": [
    "# Thresholding\n",
    "---\n",
    "- Author: Diego Inácio\n",
    "- GitHub: [github.com/diegoinacio](https://github.com/diegoinacio)\n",
    "- Notebook: [thresholding.ipynb](https://github.com/diegoinacio/computer-vision-notebooks/blob/master/Computer-Vision-Fundamentals/thresholding.ipynb)\n",
    "---\n",
    "Methods which provides image binarization."
   ]
  },
  {
   "cell_type": "code",
   "execution_count": null,
   "metadata": {},
   "outputs": [],
   "source": [
    "%matplotlib inline\n",
    "import matplotlib as mpl\n",
    "import matplotlib.pyplot as plt\n",
    "import numpy as np\n",
    "import imageio\n",
    "\n",
    "from _utils import *"
   ]
  },
  {
   "cell_type": "code",
   "execution_count": null,
   "metadata": {},
   "outputs": [],
   "source": [
    "import warnings\n",
    "warnings.filterwarnings('ignore')"
   ]
  },
  {
   "cell_type": "markdown",
   "metadata": {},
   "source": [
    "## 0. Input image\n",
    "---"
   ]
  },
  {
   "cell_type": "code",
   "execution_count": null,
   "metadata": {},
   "outputs": [],
   "source": [
    "# Input and normalize to [0, 1]\n",
    "img_in = imageio.imread('../_data/woman02.png')\n",
    "# Relight input image\n",
    "s, t = np.mgrid[1:0:512j, 0:1:512j]**(1/2.2)\n",
    "img_in = (np.min(img_in, axis=2) + s*t*255)//2\n",
    "img_in = img_in.astype('uint8')\n",
    "# Visualization\n",
    "histogram(img_in, bins=2**8, interval=[0, 255])"
   ]
  },
  {
   "cell_type": "markdown",
   "metadata": {},
   "source": [
    "## 1. Global Thresholding\n",
    "---\n",
    "Given the value of threshold *T*:\n",
    "$$ \\large\n",
    "g(x,y) = \n",
    "\\begin{cases}\n",
    "    1 &, \\text{if } f(x,y) \\gt T \\\\\n",
    "    0 &, \\text{if } f(x,y) \\leq T\n",
    "\\end{cases}\n",
    "$$"
   ]
  },
  {
   "cell_type": "code",
   "execution_count": null,
   "metadata": {},
   "outputs": [],
   "source": [
    "T = 127\n",
    "img_gt = img_in > T\n",
    "# Visualization\n",
    "histogram(img_gt, bins=2**8, interval=[0, 1])"
   ]
  },
  {
   "cell_type": "markdown",
   "metadata": {},
   "source": [
    "## 2. Adaptive Threshold\n",
    "---\n",
    "The *threshold* value for each pixel is the mean of its neighbourhood area minus the constant **C**. The neighbourhood is defined based on the value of radius **r**.\n",
    "\n",
    "$$ \\large\n",
    "T(x,y)=\\frac{\\sum_{s=-r}^{r}\\sum_{t=-r}^{r}f(x+s,y+t)}{(2r+1)^2} - C\n",
    "$$"
   ]
  },
  {
   "cell_type": "code",
   "execution_count": null,
   "metadata": {},
   "outputs": [],
   "source": [
    "# Parameters \"constant\" (C) and \"radius\" (r)\n",
    "C = 3\n",
    "r = 13\n",
    "# Imaging padding based on radius r\n",
    "img_pad = np.pad(\n",
    "    img_in,\n",
    "    ((r, r), (r, r)),\n",
    "    'edge'\n",
    ")\n",
    "# Init output image\n",
    "img_at = img_pad.copy()\n",
    "m, n = img_in.shape\n",
    "for i in range(r, m + r):\n",
    "    for j in range(r, n + r):\n",
    "        block = img_pad[i-r:i+r+1,j-r:j+r+1]\n",
    "        T = np.mean(block) - C\n",
    "        img_at[i, j] = img_pad[i, j] > T\n",
    "histogram(img_at[r:-r,r:-r], bins=2**8, interval=[0, 1])"
   ]
  }
 ],
 "metadata": {
  "kernelspec": {
   "display_name": "Python [conda env:imaging]",
   "language": "python",
   "name": "conda-env-imaging-py"
  },
  "language_info": {
   "codemirror_mode": {
    "name": "ipython",
    "version": 3
   },
   "file_extension": ".py",
   "mimetype": "text/x-python",
   "name": "python",
   "nbconvert_exporter": "python",
   "pygments_lexer": "ipython3",
   "version": "3.7.4"
  }
 },
 "nbformat": 4,
 "nbformat_minor": 2
}
