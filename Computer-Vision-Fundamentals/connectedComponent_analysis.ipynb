{
 "cells": [
  {
   "cell_type": "markdown",
   "metadata": {},
   "source": [
    "# Connected-element Analysis\n",
    "---\n",
    "- Author: Diego Inácio\n",
    "- GitHub: [github.com/diegoinacio](https://github.com/diegoinacio)\n",
    "- Notebook: [connectedComponent_analysis.ipynb](https://github.com/diegoinacio/computer-vision-notebooks/blob/master/Computer-Vision-Fundamentals/connectedComponent_analysis.ipynb)\n",
    "---\n",
    "Find and label bi-dimensional subsets of connected elements."
   ]
  },
  {
   "cell_type": "code",
   "execution_count": null,
   "metadata": {},
   "outputs": [],
   "source": [
    "%matplotlib inline\n",
    "import matplotlib.pyplot as plt\n",
    "import numpy as np\n",
    "\n",
    "from connectedComponent_analysis_plot import *\n",
    "from _utils import histogram"
   ]
  },
  {
   "cell_type": "markdown",
   "metadata": {},
   "source": [
    "Given an input grid, find the connected-components."
   ]
  },
  {
   "cell_type": "code",
   "execution_count": null,
   "metadata": {},
   "outputs": [],
   "source": [
    "grid = [\n",
    "    [ 0, 1, 0, 0, 0, 0, 0, 0],\n",
    "    [ 0, 1, 1, 0, 0, 1, 0, 0],\n",
    "    [ 0, 1, 0, 0, 0, 1, 0, 0],\n",
    "    [ 0, 0, 0, 0, 1, 0, 0, 1],\n",
    "    [ 0, 0, 0, 0, 1, 0, 0, 0],\n",
    "    [ 0, 0, 0, 0, 1, 0, 0, 0],\n",
    "    [ 0, 0, 0, 0, 1, 0, 0, 0],\n",
    "    [ 0, 1, 1, 0, 0, 0, 0, 0]\n",
    "]\n",
    "grid = np.array(grid)\n",
    "\n",
    "histogram(grid, interval=[0, 1])"
   ]
  },
  {
   "cell_type": "markdown",
   "metadata": {},
   "source": [
    "## Checking neighborhood\n",
    "---\n",
    "First step is to define which element of the neighborhood is valid, for the current position."
   ]
  },
  {
   "cell_type": "code",
   "execution_count": null,
   "metadata": {},
   "outputs": [],
   "source": [
    "def _valid_neighborhood(grid, labels, s, t, M, N):\n",
    "    # Check if current member of neighborhood is valid\n",
    "    if (s or t) < 0:\n",
    "        return None\n",
    "    if (s >= M) or (t >= N):\n",
    "        return None\n",
    "    if labels[s][t]:\n",
    "        return None\n",
    "    if grid[s][t] <= 0:\n",
    "        labels[s][t] = -1\n",
    "        return None\n",
    "    return (s, t)"
   ]
  },
  {
   "cell_type": "markdown",
   "metadata": {},
   "source": [
    "## 4-conectivity\n",
    "---\n",
    "This analysis consider only the elements connected horizontally or vertically. It means that, for an element $(x, y)$, its neighborhood is only $(x \\pm 1, y)$ or $(x, y \\pm 1)$.\n",
    "\n",
    "$$ \\large\n",
    "\\begin{bmatrix}\n",
    "0 & & 1 & & 0 \\\\\n",
    " & \\nwarrow & \\uparrow & \\nearrow \\\\\n",
    "1 & \\leftarrow & ? & \\rightarrow & 1 \\\\\n",
    " & \\swarrow & \\downarrow & \\searrow \\\\\n",
    " 0 & & 1 & & 0\n",
    "\\end{bmatrix}\n",
    "$$"
   ]
  },
  {
   "cell_type": "code",
   "execution_count": null,
   "metadata": {},
   "outputs": [],
   "source": [
    "def connect4(grid):\n",
    "    '''\n",
    "    Define number of subsets given the 4-connected neighborhood\n",
    "    '''\n",
    "    subsets = 0\n",
    "    M, N = len(grid), len(grid[0])\n",
    "    # 4-connected neighborhood offset\n",
    "    connected_4 = [(1, 0), (0, 1), (-1, 0), (0, -1)]\n",
    "    # Matrix of labels\n",
    "    labels = [[0 for _ in range(M)] for _ in range(N)]\n",
    "    for m in range(M):\n",
    "        for n in range(N):\n",
    "            if labels[m][n]:\n",
    "                # Ignore visited positions\n",
    "                continue\n",
    "            if not grid[m][n]:\n",
    "                # Ignore invalid positions (p == 0)\n",
    "                # and mark its labels as -1\n",
    "                labels[m][n] = -1\n",
    "                continue\n",
    "            subsets += 1\n",
    "            connected = [(m, n)]\n",
    "            # Init scan from the current position\n",
    "            for (s, t) in connected:\n",
    "                neighborhood = set([None, *connected])\n",
    "                # Search for valid neighbors\n",
    "                neighborhood |= {*[_valid_neighborhood(\n",
    "                    grid, labels, s + u, t + v, M, N\n",
    "                ) for (u, v) in connected_4]}\n",
    "                neighborhood.remove(None)\n",
    "                # Include valid neighbors to the current scan\n",
    "                connected += list([v for v in neighborhood if v not in connected])\n",
    "                # Add subset label to the position [s, t]\n",
    "                labels[s][t] = subsets\n",
    "    return labels, subsets"
   ]
  },
  {
   "cell_type": "code",
   "execution_count": null,
   "metadata": {},
   "outputs": [],
   "source": [
    "grid_labeled, subsets = connect4(grid)\n",
    "\n",
    "visualize_grid(grid, grid_labeled, subsets)"
   ]
  },
  {
   "cell_type": "markdown",
   "metadata": {},
   "source": [
    "## 8-conectivity\n",
    "---\n",
    "For each element $(x, y)$, this analysis consider as connected all neighbors that touch one of its corners.\n",
    "\n",
    "$$ \\large\n",
    "\\begin{bmatrix}\n",
    "1 & & 1 & & 1 \\\\\n",
    " & \\nwarrow & \\uparrow & \\nearrow \\\\\n",
    "1 & \\leftarrow & ? & \\rightarrow & 1 \\\\\n",
    " & \\swarrow & \\downarrow & \\searrow \\\\\n",
    " 1 & & 1 & & 1\n",
    "\\end{bmatrix}\n",
    "$$"
   ]
  },
  {
   "cell_type": "code",
   "execution_count": null,
   "metadata": {},
   "outputs": [],
   "source": [
    "def connect8(grid):\n",
    "    '''\n",
    "    Define number of subsets given the 8-connected neighborhood\n",
    "    '''\n",
    "    subsets = 0\n",
    "    M, N = len(grid), len(grid[0])\n",
    "    # 8-connected neighborhood offset\n",
    "    connected_8 = [\n",
    "        (1 , -1), (1 , 0), ( 1, 1),\n",
    "        (0 , -1),          ( 0, 1),\n",
    "        (-1, -1), (-1, 0), (-1, 1)\n",
    "    ]\n",
    "    # Matrix of labels\n",
    "    labels = [[0 for _ in range(M)] for _ in range(N)]\n",
    "    for m in range(M):\n",
    "        for n in range(N):\n",
    "            if labels[m][n]:\n",
    "                # Ignore visited positions\n",
    "                continue\n",
    "            if not grid[m][n]:\n",
    "                # Ignore invalid positions (p == 0)\n",
    "                # and mark its labels as -1\n",
    "                labels[m][n] = -1\n",
    "                continue\n",
    "            subsets += 1\n",
    "            connected = [(m, n)]\n",
    "            # Init scan from the current position\n",
    "            for (s, t) in connected:\n",
    "                neighborhood = set([None, *connected])\n",
    "                # Search for valid neighbors\n",
    "                neighborhood |= {*[_valid_neighborhood(\n",
    "                    grid, labels, s + u, t + v, M, N\n",
    "                ) for (u, v) in connected_8]}\n",
    "                neighborhood.remove(None)\n",
    "                # Include valid neighbors to the current scan\n",
    "                connected += list([v for v in neighborhood if v not in connected])\n",
    "                # Add subset label to the position [s, t]\n",
    "                labels[s][t] = subsets\n",
    "    return labels, subsets"
   ]
  },
  {
   "cell_type": "code",
   "execution_count": null,
   "metadata": {},
   "outputs": [],
   "source": [
    "grid_labeled, subsets = connect8(grid)\n",
    "\n",
    "visualize_grid(grid, grid_labeled, subsets)"
   ]
  }
 ],
 "metadata": {
  "kernelspec": {
   "display_name": "Python [conda env:imaging]",
   "language": "python",
   "name": "conda-env-imaging-py"
  },
  "language_info": {
   "codemirror_mode": {
    "name": "ipython",
    "version": 3
   },
   "file_extension": ".py",
   "mimetype": "text/x-python",
   "name": "python",
   "nbconvert_exporter": "python",
   "pygments_lexer": "ipython3",
   "version": "3.7.4"
  }
 },
 "nbformat": 4,
 "nbformat_minor": 2
}
